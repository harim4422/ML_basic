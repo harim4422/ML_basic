{
 "cells": [
  {
   "cell_type": "markdown",
   "metadata": {},
   "source": [
    "# Step 1. Load Iris Dataset"
   ]
  },
  {
   "cell_type": "code",
   "execution_count": 16,
   "metadata": {},
   "outputs": [],
   "source": [
    "from sklearn import datasets\n",
    "import pandas as pd\n",
    "import numpy as np\n",
    "from pandas import DataFrame\n",
    "iris = datasets.load_iris()"
   ]
  },
  {
   "cell_type": "markdown",
   "metadata": {},
   "source": [
    "# Step 2. Make Classification model"
   ]
  },
  {
   "cell_type": "code",
   "execution_count": 17,
   "metadata": {},
   "outputs": [],
   "source": [
    "#1. petal-width + petal-length --> target : Virginica\n",
    "X_petal = iris['data'][:, (2,3)] #petal-width + petal-length 만 있는 data\n",
    "y_log = (iris[\"target\"]==2).astype(np.int) # 1은 Virginica 0은 non"
   ]
  },
  {
   "cell_type": "code",
   "execution_count": 18,
   "metadata": {},
   "outputs": [
    {
     "name": "stderr",
     "output_type": "stream",
     "text": [
      "D:\\Python\\anaconda\\lib\\site-packages\\sklearn\\utils\\deprecation.py:58: DeprecationWarning: Class Imputer is deprecated; Imputer was deprecated in version 0.20 and will be removed in 0.22. Import impute.SimpleImputer from sklearn instead.\n",
      "  warnings.warn(msg, category=DeprecationWarning)\n"
     ]
    }
   ],
   "source": [
    "#Do preprocessing\n",
    "from sklearn.pipeline import Pipeline\n",
    "from sklearn.preprocessing import StandardScaler\n",
    "from sklearn.preprocessing import Imputer\n",
    "num_pipeline = Pipeline([\n",
    "        ('imputer', Imputer(strategy=\"median\")),\n",
    "        ('std_scaler', StandardScaler()),\n",
    "    ])\n",
    "X_petal = num_pipeline.fit_transform(X_petal) #정제된 X"
   ]
  },
  {
   "cell_type": "code",
   "execution_count": 19,
   "metadata": {},
   "outputs": [],
   "source": [
    "from sklearn.model_selection import train_test_split\n",
    "X_train_log , X_test_log , y_train_log , y_test_log = train_test_split(X_petal,y_log,test_size=0.2,random_state=42)"
   ]
  },
  {
   "cell_type": "code",
   "execution_count": 20,
   "metadata": {},
   "outputs": [
    {
     "data": {
      "text/plain": [
       "LogisticRegression(C=1.0, class_weight=None, dual=False, fit_intercept=True,\n",
       "          intercept_scaling=1, max_iter=100, multi_class='warn',\n",
       "          n_jobs=None, penalty='l2', random_state=42, solver='liblinear',\n",
       "          tol=0.0001, verbose=0, warm_start=False)"
      ]
     },
     "execution_count": 20,
     "metadata": {},
     "output_type": "execute_result"
    }
   ],
   "source": [
    "from sklearn.linear_model import LogisticRegression\n",
    "log_reg = LogisticRegression(solver=\"liblinear\", random_state=42)\n",
    "log_reg.fit(X_train_log, y_train_log)"
   ]
  },
  {
   "cell_type": "code",
   "execution_count": 22,
   "metadata": {},
   "outputs": [
    {
     "name": "stdout",
     "output_type": "stream",
     "text": [
      "label이 Virginica인가?? : [1]\n"
     ]
    }
   ],
   "source": [
    "print('label이 Virginica인가?? : {}'.format(log_reg.predict([[5,2]])))"
   ]
  },
  {
   "cell_type": "code",
   "execution_count": 24,
   "metadata": {},
   "outputs": [],
   "source": [
    "#Softmax Regression\n",
    "y_softmax = iris[\"target\"] #target label\n",
    "X_train_sm , X_test_sm , y_train_sm , y_test_sm = train_test_split(X_petal,y_softmax,test_size=0.2,random_state=42)"
   ]
  },
  {
   "cell_type": "code",
   "execution_count": 25,
   "metadata": {},
   "outputs": [
    {
     "data": {
      "text/plain": [
       "LogisticRegression(C=10, class_weight=None, dual=False, fit_intercept=True,\n",
       "          intercept_scaling=1, max_iter=100, multi_class='multinomial',\n",
       "          n_jobs=None, penalty='l2', random_state=42, solver='lbfgs',\n",
       "          tol=0.0001, verbose=0, warm_start=False)"
      ]
     },
     "execution_count": 25,
     "metadata": {},
     "output_type": "execute_result"
    }
   ],
   "source": [
    "softmax_reg = LogisticRegression(multi_class=\"multinomial\",solver=\"lbfgs\", C=10, random_state=42)\n",
    "softmax_reg.fit(X_train_sm, y_train_sm)"
   ]
  },
  {
   "cell_type": "code",
   "execution_count": 26,
   "metadata": {},
   "outputs": [
    {
     "name": "stdout",
     "output_type": "stream",
     "text": [
      "label은 무엇인가?? : [2]\n",
      "softmax_predict_proba : [[1.55990352e-27 6.83934873e-14 1.00000000e+00]]\n"
     ]
    }
   ],
   "source": [
    "print('label은 무엇인가?? : {}'.format(softmax_reg.predict([[5, 2]])))\n",
    "print('softmax_predict_proba : {}'.format(softmax_reg.predict_proba([[5, 2]])))"
   ]
  },
  {
   "cell_type": "code",
   "execution_count": 27,
   "metadata": {},
   "outputs": [],
   "source": [
    "#스코어 출력 함수\n",
    "def display_scores(scores):\n",
    "    print(\"Scores:\", scores)\n",
    "    print(\"Mean:\", scores.mean())\n",
    "    print(\"Standard deviation:\", scores.std())"
   ]
  },
  {
   "cell_type": "code",
   "execution_count": 28,
   "metadata": {},
   "outputs": [
    {
     "name": "stdout",
     "output_type": "stream",
     "text": [
      "Scores: [0.92307692 1.         1.         1.         0.75       0.83333333\n",
      " 1.         1.         1.         0.90909091]\n",
      "Mean: 0.9415501165501166\n",
      "Standard deviation: 0.08384241861847685\n"
     ]
    }
   ],
   "source": [
    "#Get Accuracy using cross validation\n",
    "from sklearn.model_selection import cross_val_score\n",
    "log_accuracy=cross_val_score(log_reg, X_train_log, y_train_log, cv=10, scoring=\"accuracy\")\n",
    "display_scores(log_accuracy)"
   ]
  },
  {
   "cell_type": "code",
   "execution_count": 29,
   "metadata": {},
   "outputs": [
    {
     "name": "stdout",
     "output_type": "stream",
     "text": [
      "Scores: [1.         0.93333333 1.         0.93333333 0.93333333 0.93333333\n",
      " 0.86666667 1.         1.         1.        ]\n",
      "Mean: 0.96\n",
      "Standard deviation: 0.044221663871405324\n"
     ]
    }
   ],
   "source": [
    "softmax_accuracy=cross_val_score(softmax_reg, X_petal, y_softmax, cv=10, scoring=\"accuracy\")\n",
    "display_scores(softmax_accuracy)"
   ]
  },
  {
   "cell_type": "code",
   "execution_count": 30,
   "metadata": {},
   "outputs": [
    {
     "name": "stdout",
     "output_type": "stream",
     "text": [
      "Scores: [0.         0.25819889 0.         0.25819889 0.         0.\n",
      " 0.36514837 0.36514837 0.25819889 0.        ]\n",
      "Mean: 0.15048934125817048\n",
      "Standard deviation: 0.15498265978601788\n"
     ]
    }
   ],
   "source": [
    "log_mse = cross_val_score(log_reg, X_petal, y_log,\n",
    "                             scoring=\"neg_mean_squared_error\", cv=10)\n",
    "log_rmse = np.sqrt(-log_mse)\n",
    "display_scores(log_rmse)"
   ]
  },
  {
   "cell_type": "code",
   "execution_count": 31,
   "metadata": {},
   "outputs": [
    {
     "name": "stdout",
     "output_type": "stream",
     "text": [
      "Scores: [0.         0.25819889 0.         0.25819889 0.25819889 0.25819889\n",
      " 0.36514837 0.         0.         0.        ]\n",
      "Mean: 0.13979439306587552\n",
      "Standard deviation: 0.143029813910749\n"
     ]
    }
   ],
   "source": [
    "softmax_mse = cross_val_score(softmax_reg, X_petal, y_softmax,\n",
    "                             scoring=\"neg_mean_squared_error\", cv=10)\n",
    "softmax_rmse = np.sqrt(-softmax_mse)\n",
    "display_scores(softmax_rmse)"
   ]
  },
  {
   "cell_type": "code",
   "execution_count": 32,
   "metadata": {},
   "outputs": [],
   "source": [
    "#Calculate Precision and Recall\n",
    "from sklearn.metrics import precision_score,recall_score\n",
    "def getPR(classifier,X_test,y_test):\n",
    "    y_score = classifier.predict(X_test)\n",
    "    precision = precision_score(y_test, y_score,average='micro')\n",
    "    recall =  recall_score(y_test, y_score,average='micro')\n",
    "    print('precision score: {}'.format(precision))\n",
    "    print('recall score: {}'.format(recall))"
   ]
  },
  {
   "cell_type": "code",
   "execution_count": 33,
   "metadata": {},
   "outputs": [
    {
     "name": "stdout",
     "output_type": "stream",
     "text": [
      "precision score: 1.0\n",
      "recall score: 1.0\n"
     ]
    }
   ],
   "source": [
    "getPR(log_reg,X_test_log,y_test_log)"
   ]
  },
  {
   "cell_type": "code",
   "execution_count": 34,
   "metadata": {
    "scrolled": true
   },
   "outputs": [
    {
     "name": "stdout",
     "output_type": "stream",
     "text": [
      "precision score: 1.0\n",
      "recall score: 1.0\n"
     ]
    }
   ],
   "source": [
    "getPR(softmax_reg,X_test_sm,y_test_sm)"
   ]
  },
  {
   "cell_type": "code",
   "execution_count": null,
   "metadata": {},
   "outputs": [],
   "source": []
  }
 ],
 "metadata": {
  "kernelspec": {
   "display_name": "Python 3",
   "language": "python",
   "name": "python3"
  },
  "language_info": {
   "codemirror_mode": {
    "name": "ipython",
    "version": 3
   },
   "file_extension": ".py",
   "mimetype": "text/x-python",
   "name": "python",
   "nbconvert_exporter": "python",
   "pygments_lexer": "ipython3",
   "version": "3.6.7"
  }
 },
 "nbformat": 4,
 "nbformat_minor": 2
}
