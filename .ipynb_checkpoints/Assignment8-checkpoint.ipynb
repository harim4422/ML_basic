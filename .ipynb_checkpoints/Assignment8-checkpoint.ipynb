{
 "cells": [
  {
   "cell_type": "markdown",
   "metadata": {},
   "source": [
    "## Step 1. Find Dataset that has a number of features."
   ]
  },
  {
   "cell_type": "markdown",
   "metadata": {},
   "source": [
    "- Red & White wine Dataset( https://www.kaggle.com/numberswithkartik/red-white-wine-dataset )"
   ]
  },
  {
   "cell_type": "code",
   "execution_count": 1,
   "metadata": {},
   "outputs": [
    {
     "data": {
      "text/html": [
       "<div>\n",
       "<style scoped>\n",
       "    .dataframe tbody tr th:only-of-type {\n",
       "        vertical-align: middle;\n",
       "    }\n",
       "\n",
       "    .dataframe tbody tr th {\n",
       "        vertical-align: top;\n",
       "    }\n",
       "\n",
       "    .dataframe thead th {\n",
       "        text-align: right;\n",
       "    }\n",
       "</style>\n",
       "<table border=\"1\" class=\"dataframe\">\n",
       "  <thead>\n",
       "    <tr style=\"text-align: right;\">\n",
       "      <th></th>\n",
       "      <th>fixed_acidity</th>\n",
       "      <th>volatile_acidity</th>\n",
       "      <th>citric_acid</th>\n",
       "      <th>residual_sugar</th>\n",
       "      <th>chlorides</th>\n",
       "      <th>free_sulfur_dioxide</th>\n",
       "      <th>total_sulfur_dioxide</th>\n",
       "      <th>density</th>\n",
       "      <th>pH</th>\n",
       "      <th>sulphates</th>\n",
       "      <th>alcohol</th>\n",
       "      <th>quality</th>\n",
       "      <th>style</th>\n",
       "    </tr>\n",
       "  </thead>\n",
       "  <tbody>\n",
       "    <tr>\n",
       "      <th>0</th>\n",
       "      <td>7.4</td>\n",
       "      <td>0.70</td>\n",
       "      <td>0.00</td>\n",
       "      <td>1.9</td>\n",
       "      <td>0.076</td>\n",
       "      <td>11.0</td>\n",
       "      <td>34.0</td>\n",
       "      <td>0.9978</td>\n",
       "      <td>3.51</td>\n",
       "      <td>0.56</td>\n",
       "      <td>9.4</td>\n",
       "      <td>5</td>\n",
       "      <td>red</td>\n",
       "    </tr>\n",
       "    <tr>\n",
       "      <th>1</th>\n",
       "      <td>7.8</td>\n",
       "      <td>0.88</td>\n",
       "      <td>0.00</td>\n",
       "      <td>2.6</td>\n",
       "      <td>0.098</td>\n",
       "      <td>25.0</td>\n",
       "      <td>67.0</td>\n",
       "      <td>0.9968</td>\n",
       "      <td>3.20</td>\n",
       "      <td>0.68</td>\n",
       "      <td>9.8</td>\n",
       "      <td>5</td>\n",
       "      <td>red</td>\n",
       "    </tr>\n",
       "    <tr>\n",
       "      <th>2</th>\n",
       "      <td>7.8</td>\n",
       "      <td>0.76</td>\n",
       "      <td>0.04</td>\n",
       "      <td>2.3</td>\n",
       "      <td>0.092</td>\n",
       "      <td>15.0</td>\n",
       "      <td>54.0</td>\n",
       "      <td>0.9970</td>\n",
       "      <td>3.26</td>\n",
       "      <td>0.65</td>\n",
       "      <td>9.8</td>\n",
       "      <td>5</td>\n",
       "      <td>red</td>\n",
       "    </tr>\n",
       "    <tr>\n",
       "      <th>3</th>\n",
       "      <td>11.2</td>\n",
       "      <td>0.28</td>\n",
       "      <td>0.56</td>\n",
       "      <td>1.9</td>\n",
       "      <td>0.075</td>\n",
       "      <td>17.0</td>\n",
       "      <td>60.0</td>\n",
       "      <td>0.9980</td>\n",
       "      <td>3.16</td>\n",
       "      <td>0.58</td>\n",
       "      <td>9.8</td>\n",
       "      <td>6</td>\n",
       "      <td>red</td>\n",
       "    </tr>\n",
       "    <tr>\n",
       "      <th>4</th>\n",
       "      <td>7.4</td>\n",
       "      <td>0.70</td>\n",
       "      <td>0.00</td>\n",
       "      <td>1.9</td>\n",
       "      <td>0.076</td>\n",
       "      <td>11.0</td>\n",
       "      <td>34.0</td>\n",
       "      <td>0.9978</td>\n",
       "      <td>3.51</td>\n",
       "      <td>0.56</td>\n",
       "      <td>9.4</td>\n",
       "      <td>5</td>\n",
       "      <td>red</td>\n",
       "    </tr>\n",
       "  </tbody>\n",
       "</table>\n",
       "</div>"
      ],
      "text/plain": [
       "   fixed_acidity  volatile_acidity  citric_acid  residual_sugar  chlorides  \\\n",
       "0            7.4              0.70         0.00             1.9      0.076   \n",
       "1            7.8              0.88         0.00             2.6      0.098   \n",
       "2            7.8              0.76         0.04             2.3      0.092   \n",
       "3           11.2              0.28         0.56             1.9      0.075   \n",
       "4            7.4              0.70         0.00             1.9      0.076   \n",
       "\n",
       "   free_sulfur_dioxide  total_sulfur_dioxide  density    pH  sulphates  \\\n",
       "0                 11.0                  34.0   0.9978  3.51       0.56   \n",
       "1                 25.0                  67.0   0.9968  3.20       0.68   \n",
       "2                 15.0                  54.0   0.9970  3.26       0.65   \n",
       "3                 17.0                  60.0   0.9980  3.16       0.58   \n",
       "4                 11.0                  34.0   0.9978  3.51       0.56   \n",
       "\n",
       "   alcohol  quality style  \n",
       "0      9.4        5   red  \n",
       "1      9.8        5   red  \n",
       "2      9.8        5   red  \n",
       "3      9.8        6   red  \n",
       "4      9.4        5   red  "
      ]
     },
     "execution_count": 1,
     "metadata": {},
     "output_type": "execute_result"
    }
   ],
   "source": [
    "#dataset : \n",
    "import pandas as pd\n",
    "wine = pd.read_csv('./datasets/wine/wine.csv')\n",
    "wine.head()"
   ]
  },
  {
   "cell_type": "code",
   "execution_count": 2,
   "metadata": {},
   "outputs": [
    {
     "data": {
      "text/plain": [
       "(6497, 13)"
      ]
     },
     "execution_count": 2,
     "metadata": {},
     "output_type": "execute_result"
    }
   ],
   "source": [
    "wine.shape"
   ]
  },
  {
   "cell_type": "code",
   "execution_count": 3,
   "metadata": {},
   "outputs": [
    {
     "data": {
      "text/plain": [
       "fixed_acidity           0\n",
       "volatile_acidity        0\n",
       "citric_acid             0\n",
       "residual_sugar          0\n",
       "chlorides               0\n",
       "free_sulfur_dioxide     0\n",
       "total_sulfur_dioxide    0\n",
       "density                 0\n",
       "pH                      0\n",
       "sulphates               0\n",
       "alcohol                 0\n",
       "quality                 0\n",
       "style                   0\n",
       "dtype: int64"
      ]
     },
     "execution_count": 3,
     "metadata": {},
     "output_type": "execute_result"
    }
   ],
   "source": [
    "wine.isnull().sum()"
   ]
  },
  {
   "cell_type": "code",
   "execution_count": 4,
   "metadata": {},
   "outputs": [
    {
     "data": {
      "text/html": [
       "<div>\n",
       "<style scoped>\n",
       "    .dataframe tbody tr th:only-of-type {\n",
       "        vertical-align: middle;\n",
       "    }\n",
       "\n",
       "    .dataframe tbody tr th {\n",
       "        vertical-align: top;\n",
       "    }\n",
       "\n",
       "    .dataframe thead th {\n",
       "        text-align: right;\n",
       "    }\n",
       "</style>\n",
       "<table border=\"1\" class=\"dataframe\">\n",
       "  <thead>\n",
       "    <tr style=\"text-align: right;\">\n",
       "      <th></th>\n",
       "      <th>fixed_acidity</th>\n",
       "      <th>volatile_acidity</th>\n",
       "      <th>citric_acid</th>\n",
       "      <th>residual_sugar</th>\n",
       "      <th>chlorides</th>\n",
       "      <th>free_sulfur_dioxide</th>\n",
       "      <th>total_sulfur_dioxide</th>\n",
       "      <th>density</th>\n",
       "      <th>pH</th>\n",
       "      <th>sulphates</th>\n",
       "      <th>alcohol</th>\n",
       "      <th>quality</th>\n",
       "    </tr>\n",
       "  </thead>\n",
       "  <tbody>\n",
       "    <tr>\n",
       "      <th>0</th>\n",
       "      <td>7.4</td>\n",
       "      <td>0.70</td>\n",
       "      <td>0.00</td>\n",
       "      <td>1.9</td>\n",
       "      <td>0.076</td>\n",
       "      <td>11.0</td>\n",
       "      <td>34.0</td>\n",
       "      <td>0.9978</td>\n",
       "      <td>3.51</td>\n",
       "      <td>0.56</td>\n",
       "      <td>9.4</td>\n",
       "      <td>5</td>\n",
       "    </tr>\n",
       "    <tr>\n",
       "      <th>1</th>\n",
       "      <td>7.8</td>\n",
       "      <td>0.88</td>\n",
       "      <td>0.00</td>\n",
       "      <td>2.6</td>\n",
       "      <td>0.098</td>\n",
       "      <td>25.0</td>\n",
       "      <td>67.0</td>\n",
       "      <td>0.9968</td>\n",
       "      <td>3.20</td>\n",
       "      <td>0.68</td>\n",
       "      <td>9.8</td>\n",
       "      <td>5</td>\n",
       "    </tr>\n",
       "    <tr>\n",
       "      <th>2</th>\n",
       "      <td>7.8</td>\n",
       "      <td>0.76</td>\n",
       "      <td>0.04</td>\n",
       "      <td>2.3</td>\n",
       "      <td>0.092</td>\n",
       "      <td>15.0</td>\n",
       "      <td>54.0</td>\n",
       "      <td>0.9970</td>\n",
       "      <td>3.26</td>\n",
       "      <td>0.65</td>\n",
       "      <td>9.8</td>\n",
       "      <td>5</td>\n",
       "    </tr>\n",
       "    <tr>\n",
       "      <th>3</th>\n",
       "      <td>11.2</td>\n",
       "      <td>0.28</td>\n",
       "      <td>0.56</td>\n",
       "      <td>1.9</td>\n",
       "      <td>0.075</td>\n",
       "      <td>17.0</td>\n",
       "      <td>60.0</td>\n",
       "      <td>0.9980</td>\n",
       "      <td>3.16</td>\n",
       "      <td>0.58</td>\n",
       "      <td>9.8</td>\n",
       "      <td>6</td>\n",
       "    </tr>\n",
       "    <tr>\n",
       "      <th>4</th>\n",
       "      <td>7.4</td>\n",
       "      <td>0.70</td>\n",
       "      <td>0.00</td>\n",
       "      <td>1.9</td>\n",
       "      <td>0.076</td>\n",
       "      <td>11.0</td>\n",
       "      <td>34.0</td>\n",
       "      <td>0.9978</td>\n",
       "      <td>3.51</td>\n",
       "      <td>0.56</td>\n",
       "      <td>9.4</td>\n",
       "      <td>5</td>\n",
       "    </tr>\n",
       "  </tbody>\n",
       "</table>\n",
       "</div>"
      ],
      "text/plain": [
       "   fixed_acidity  volatile_acidity  citric_acid  residual_sugar  chlorides  \\\n",
       "0            7.4              0.70         0.00             1.9      0.076   \n",
       "1            7.8              0.88         0.00             2.6      0.098   \n",
       "2            7.8              0.76         0.04             2.3      0.092   \n",
       "3           11.2              0.28         0.56             1.9      0.075   \n",
       "4            7.4              0.70         0.00             1.9      0.076   \n",
       "\n",
       "   free_sulfur_dioxide  total_sulfur_dioxide  density    pH  sulphates  \\\n",
       "0                 11.0                  34.0   0.9978  3.51       0.56   \n",
       "1                 25.0                  67.0   0.9968  3.20       0.68   \n",
       "2                 15.0                  54.0   0.9970  3.26       0.65   \n",
       "3                 17.0                  60.0   0.9980  3.16       0.58   \n",
       "4                 11.0                  34.0   0.9978  3.51       0.56   \n",
       "\n",
       "   alcohol  quality  \n",
       "0      9.4        5  \n",
       "1      9.8        5  \n",
       "2      9.8        5  \n",
       "3      9.8        6  \n",
       "4      9.4        5  "
      ]
     },
     "execution_count": 4,
     "metadata": {},
     "output_type": "execute_result"
    }
   ],
   "source": [
    "X=wine.drop(['style'],axis=1)\n",
    "y=wine['style']\n",
    "X.head()"
   ]
  },
  {
   "cell_type": "code",
   "execution_count": 5,
   "metadata": {},
   "outputs": [
    {
     "data": {
      "text/plain": [
       "array([0, 0, 0, ..., 1, 1, 1])"
      ]
     },
     "execution_count": 5,
     "metadata": {},
     "output_type": "execute_result"
    }
   ],
   "source": [
    "#preprocessing\n",
    "from sklearn.preprocessing import LabelEncoder\n",
    "labelencoder=LabelEncoder()\n",
    "y = labelencoder.fit_transform(y)\n",
    "y"
   ]
  },
  {
   "cell_type": "code",
   "execution_count": 6,
   "metadata": {},
   "outputs": [],
   "source": [
    "X=X.values"
   ]
  },
  {
   "cell_type": "markdown",
   "metadata": {},
   "source": [
    "- Red = 0 & White = 1"
   ]
  },
  {
   "cell_type": "code",
   "execution_count": 7,
   "metadata": {},
   "outputs": [],
   "source": [
    "#training set & test set 나누기\n",
    "from sklearn.model_selection import train_test_split\n",
    "import numpy as np\n",
    "X_train , X_test , y_train , y_test = train_test_split(X,y,test_size=0.2,random_state=42)"
   ]
  },
  {
   "cell_type": "markdown",
   "metadata": {},
   "source": [
    "## Step 2. Train and validate model using dataset"
   ]
  },
  {
   "cell_type": "code",
   "execution_count": 8,
   "metadata": {},
   "outputs": [],
   "source": [
    "import time\n",
    "import numpy as np\n",
    "from sklearn.linear_model import SGDClassifier\n",
    "sgd_clf = SGDClassifier(max_iter=5, tol=-np.infty,random_state=42,loss='log')\n",
    "sgd_time = time.time() \n",
    "sgd_clf.fit(X_train,y_train)\n",
    "sgd_time = time.time() -sgd_time\n",
    "\n",
    "from sklearn.neighbors import KNeighborsClassifier\n",
    "knn_clf = KNeighborsClassifier(n_neighbors=2)\n",
    "knn_time = time.time() \n",
    "knn_clf.fit(X_train,y_train)\n",
    "knn_time = time.time() -knn_time\n",
    "\n",
    "from sklearn.tree import DecisionTreeClassifier\n",
    "tree_clf = DecisionTreeClassifier(max_depth=2,random_state=42)\n",
    "tree_time = time.time() \n",
    "tree_clf.fit(X_train,y_train)\n",
    "tree_time = time.time() -tree_time\n",
    "\n",
    "from sklearn.svm import SVC\n",
    "svm_clf = SVC(gamma='auto',C=2,random_state=42,probability=True)\n",
    "svc_time = time.time() \n",
    "svm_clf.fit(X_train,y_train)\n",
    "svc_time = time.time() -svc_time "
   ]
  },
  {
   "cell_type": "code",
   "execution_count": 9,
   "metadata": {},
   "outputs": [
    {
     "name": "stdout",
     "output_type": "stream",
     "text": [
      "SGD classifier Accuracy : 0.9253846153846154\n",
      "KNN classifier Accuracy : 0.94\n",
      "Decision Tree classifier Accuracy : 0.9476923076923077\n",
      "SVM classifier Accuracy : 0.9453846153846154\n"
     ]
    }
   ],
   "source": [
    "from sklearn.metrics import accuracy_score\n",
    "def getScore(model):\n",
    "    y_score = model.predict(X_test)\n",
    "    accuracy = accuracy_score(y_test,y_score)\n",
    "    return accuracy\n",
    "print('SGD classifier Accuracy : {}'.format(getScore(sgd_clf)))\n",
    "print('KNN classifier Accuracy : {}'.format(getScore(knn_clf)))\n",
    "print('Decision Tree classifier Accuracy : {}'.format(getScore(tree_clf)))\n",
    "print('SVM classifier Accuracy : {}'.format(getScore(svm_clf)))"
   ]
  },
  {
   "cell_type": "code",
   "execution_count": 10,
   "metadata": {},
   "outputs": [],
   "source": [
    "def letTest(model1,model2,model3,model4):\n",
    "    print('input data : ',X_test[13])\n",
    "    print('output data : ',y_test[13])\n",
    "    print('<Prediction>')\n",
    "    print(model1.predict([X_test[13]]))\n",
    "    print(model2.predict([X_test[13]]))\n",
    "    print(model3.predict([X_test[13]]))\n",
    "    print(model4.predict([X_test[13]]))"
   ]
  },
  {
   "cell_type": "code",
   "execution_count": 11,
   "metadata": {},
   "outputs": [
    {
     "name": "stdout",
     "output_type": "stream",
     "text": [
      "input data :  [ 8.1     0.725   0.22    2.2     0.072  11.     41.      0.9967  3.36\n",
      "  0.55    9.1     5.    ]\n",
      "output data :  0\n",
      "<Prediction>\n",
      "[0]\n",
      "[0]\n",
      "[0]\n",
      "[0]\n"
     ]
    }
   ],
   "source": [
    "letTest(sgd_clf,knn_clf,tree_clf,svm_clf)"
   ]
  },
  {
   "cell_type": "markdown",
   "metadata": {},
   "source": [
    "## Step 3. Reduce features using PCA"
   ]
  },
  {
   "cell_type": "code",
   "execution_count": 12,
   "metadata": {},
   "outputs": [],
   "source": [
    "from sklearn.decomposition import PCA\n",
    "pca_2 = PCA(n_components=2)\n",
    "pca_3 = PCA(n_components=3)\n",
    "pca_5 = PCA(n_components=5)\n",
    "X_2 = pca_2.fit_transform(X)\n",
    "X_3 = pca_3.fit_transform(X)\n",
    "X_5 = pca_5.fit_transform(X)"
   ]
  },
  {
   "cell_type": "markdown",
   "metadata": {},
   "source": [
    "## Step 4. Train and validate model using step3's dataset"
   ]
  },
  {
   "cell_type": "code",
   "execution_count": 13,
   "metadata": {},
   "outputs": [],
   "source": [
    "X_train , X_test= train_test_split(X_2,test_size=0.2,random_state=42)\n",
    "sgd_clf_PCA2 = SGDClassifier(max_iter=5, tol=-np.infty,random_state=42,loss='log')\n",
    "sgd_time_2 = time.time() \n",
    "sgd_clf_PCA2.fit(X_train,y_train)\n",
    "sgd_time_2 = time.time() -sgd_time_2\n",
    "\n",
    "knn_clf_PCA2 = KNeighborsClassifier(n_neighbors=2)\n",
    "knn_time_2 = time.time() \n",
    "knn_clf_PCA2.fit(X_train,y_train)\n",
    "knn_time_2 = time.time() -knn_time_2\n",
    "\n",
    "tree_clf_PCA2 = DecisionTreeClassifier(max_depth=2,random_state=42)\n",
    "tree_time_2 = time.time() \n",
    "tree_clf_PCA2.fit(X_train,y_train)\n",
    "tree_time_2 = time.time() -tree_time_2\n",
    "\n",
    "svm_clf_PCA2 = SVC(gamma='auto',C=2,random_state=42,probability=True)\n",
    "svc_time_2 = time.time() \n",
    "svm_clf_PCA2.fit(X_train,y_train)\n",
    "svc_time_2 = time.time() -svc_time_2"
   ]
  },
  {
   "cell_type": "code",
   "execution_count": 15,
   "metadata": {},
   "outputs": [
    {
     "name": "stdout",
     "output_type": "stream",
     "text": [
      "<Using PCA : feature 2>\n",
      "SGD classifier Accuracy : 0.92\n",
      "KNN classifier Accuracy : 0.9\n",
      "Decision Tree classifier Accuracy : 0.9115384615384615\n",
      "SVM classifier Accuracy : 0.9069230769230769\n"
     ]
    }
   ],
   "source": [
    "print('<Using PCA : feature 2>')\n",
    "print('SGD classifier Accuracy : {}'.format(getScore(sgd_clf_PCA2)))\n",
    "print('KNN classifier Accuracy : {}'.format(getScore(knn_clf_PCA2)))\n",
    "print('Decision Tree classifier Accuracy : {}'.format(getScore(tree_clf_PCA2)))\n",
    "print('SVM classifier Accuracy : {}'.format(getScore(svm_clf_PCA2)))"
   ]
  },
  {
   "cell_type": "code",
   "execution_count": 14,
   "metadata": {},
   "outputs": [
    {
     "name": "stdout",
     "output_type": "stream",
     "text": [
      "input data :  [-77.29659432  -1.77204454]\n",
      "output data :  0\n",
      "<Prediction>\n",
      "[0]\n",
      "[0]\n",
      "[0]\n",
      "[0]\n"
     ]
    }
   ],
   "source": [
    "letTest(sgd_clf_PCA2,knn_clf_PCA2,tree_clf_PCA2,svm_clf_PCA2)"
   ]
  },
  {
   "cell_type": "code",
   "execution_count": 16,
   "metadata": {},
   "outputs": [],
   "source": [
    "X_train , X_test= train_test_split(X_3,test_size=0.2,random_state=42)\n",
    "sgd_clf_PCA3 = SGDClassifier(max_iter=5, tol=-np.infty,random_state=42,loss='log')\n",
    "sgd_time_3 = time.time() \n",
    "sgd_clf_PCA3.fit(X_train,y_train)\n",
    "sgd_time_3 = time.time() -sgd_time_3\n",
    "\n",
    "knn_clf_PCA3 = KNeighborsClassifier(n_neighbors=2)\n",
    "knn_time_3 = time.time() \n",
    "knn_clf_PCA3.fit(X_train,y_train)\n",
    "knn_time_3 = time.time() -knn_time_3\n",
    "\n",
    "tree_clf_PCA3 = DecisionTreeClassifier(max_depth=2,random_state=42)\n",
    "tree_time_3 = time.time() \n",
    "tree_clf_PCA3.fit(X_train,y_train)\n",
    "tree_time_3 = time.time() -tree_time_3\n",
    "\n",
    "svm_clf_PCA3 = SVC(gamma='auto',C=2,random_state=42,probability=True)\n",
    "svc_time_3 = time.time() \n",
    "svm_clf_PCA3.fit(X_train,y_train)\n",
    "svc_time_3 = time.time() -svc_time_3"
   ]
  },
  {
   "cell_type": "code",
   "execution_count": 18,
   "metadata": {},
   "outputs": [
    {
     "name": "stdout",
     "output_type": "stream",
     "text": [
      "<Using PCA : feature 3>\n",
      "SGD classifier Accuracy : 0.8915384615384615\n",
      "KNN classifier Accuracy : 0.9084615384615384\n",
      "Decision Tree classifier Accuracy : 0.9115384615384615\n",
      "SVM classifier Accuracy : 0.9261538461538461\n"
     ]
    }
   ],
   "source": [
    "print('<Using PCA : feature 3>')\n",
    "print('SGD classifier Accuracy : {}'.format(getScore(sgd_clf_PCA3)))\n",
    "print('KNN classifier Accuracy : {}'.format(getScore(knn_clf_PCA3)))\n",
    "print('Decision Tree classifier Accuracy : {}'.format(getScore(tree_clf_PCA3)))\n",
    "print('SVM classifier Accuracy : {}'.format(getScore(svm_clf_PCA3)))"
   ]
  },
  {
   "cell_type": "code",
   "execution_count": 17,
   "metadata": {},
   "outputs": [
    {
     "name": "stdout",
     "output_type": "stream",
     "text": [
      "input data :  [-77.29659432  -1.77204454   0.12417026]\n",
      "output data :  0\n",
      "<Prediction>\n",
      "[0]\n",
      "[0]\n",
      "[0]\n",
      "[0]\n"
     ]
    }
   ],
   "source": [
    "letTest(sgd_clf_PCA3,knn_clf_PCA3,tree_clf_PCA3,svm_clf_PCA3)"
   ]
  },
  {
   "cell_type": "code",
   "execution_count": 19,
   "metadata": {},
   "outputs": [],
   "source": [
    "X_train , X_test= train_test_split(X_5,test_size=0.2,random_state=42)\n",
    "sgd_clf_PCA5 = SGDClassifier(max_iter=5, tol=-np.infty,random_state=42,loss='log')\n",
    "sgd_time_5 = time.time() \n",
    "sgd_clf_PCA5.fit(X_train,y_train)\n",
    "sgd_time_5 = time.time() -sgd_time_5\n",
    "\n",
    "knn_clf_PCA5 = KNeighborsClassifier(n_neighbors=2)\n",
    "knn_time_5 = time.time() \n",
    "knn_clf_PCA5.fit(X_train,y_train)\n",
    "knn_time_5 = time.time() -knn_time_5\n",
    "\n",
    "tree_clf_PCA5 = DecisionTreeClassifier(max_depth=2,random_state=42)\n",
    "tree_time_5 = time.time() \n",
    "tree_clf_PCA5.fit(X_train,y_train)\n",
    "tree_time_5 = time.time() -tree_time_5\n",
    "\n",
    "svm_clf_PCA5 = SVC(gamma='auto',C=2,random_state=42,probability=True)\n",
    "svc_time_5 = time.time() \n",
    "svm_clf_PCA5.fit(X_train,y_train)\n",
    "svc_time_5 = time.time() -svc_time_5"
   ]
  },
  {
   "cell_type": "code",
   "execution_count": 21,
   "metadata": {},
   "outputs": [
    {
     "name": "stdout",
     "output_type": "stream",
     "text": [
      "<Using PCA : feature 5>\n",
      "SGD classifier Accuracy : 0.9315384615384615\n",
      "KNN classifier Accuracy : 0.9384615384615385\n",
      "Decision Tree classifier Accuracy : 0.9146153846153846\n",
      "SVM classifier Accuracy : 0.9292307692307692\n"
     ]
    }
   ],
   "source": [
    "print('<Using PCA : feature 5>')\n",
    "print('SGD classifier Accuracy : {}'.format(getScore(sgd_clf_PCA5)))\n",
    "print('KNN classifier Accuracy : {}'.format(getScore(knn_clf_PCA5)))\n",
    "print('Decision Tree classifier Accuracy : {}'.format(getScore(tree_clf_PCA5)))\n",
    "print('SVM classifier Accuracy : {}'.format(getScore(svm_clf_PCA5)))"
   ]
  },
  {
   "cell_type": "code",
   "execution_count": 20,
   "metadata": {},
   "outputs": [
    {
     "name": "stdout",
     "output_type": "stream",
     "text": [
      "input data :  [-77.29659432  -1.77204454   0.12417026   1.60533549  -1.21018723]\n",
      "output data :  0\n",
      "<Prediction>\n",
      "[0]\n",
      "[0]\n",
      "[0]\n",
      "[0]\n"
     ]
    }
   ],
   "source": [
    "letTest(sgd_clf_PCA5,knn_clf_PCA5,tree_clf_PCA5,svm_clf_PCA5)"
   ]
  },
  {
   "cell_type": "markdown",
   "metadata": {},
   "source": [
    "## Step 5. Compare the step 2 and step 4 performances"
   ]
  },
  {
   "cell_type": "code",
   "execution_count": 22,
   "metadata": {},
   "outputs": [
    {
     "name": "stdout",
     "output_type": "stream",
     "text": [
      "<Training Time Compare>\n",
      "Without PCA : feature 12\n",
      "SGD Classifier : 0.0\n",
      "knn Classifier : 0.015627622604370117\n",
      "tree Classifier : 0.0\n",
      "SVC Classifier : 6.109557867050171\n",
      "Using PCA : feature 2\n",
      "SGD Classifier : 0.003999471664428711\n",
      "knn Classifier : 0.002000570297241211\n",
      "tree Classifier : 0.0029997825622558594\n",
      "SVC Classifier : 7.517149448394775\n",
      "Using PCA : feature 3\n",
      "SGD Classifier : 0.004998445510864258\n",
      "knn Classifier : 0.001999378204345703\n",
      "tree Classifier : 0.004000425338745117\n",
      "SVC Classifier : 7.4215476512908936\n",
      "Using PCA : feature 5\n",
      "SGD Classifier : 0.004998922348022461\n",
      "knn Classifier : 0.0019996166229248047\n",
      "tree Classifier : 0.006001710891723633\n",
      "SVC Classifier : 7.190220355987549\n"
     ]
    }
   ],
   "source": [
    "print('<Training Time Compare>')\n",
    "print('Without PCA : feature 12')\n",
    "print('SGD Classifier : {}'.format(sgd_time))\n",
    "print('knn Classifier : {}'.format(knn_time))\n",
    "print('tree Classifier : {}'.format(tree_time))\n",
    "print('SVC Classifier : {}'.format(svc_time))\n",
    "print('Using PCA : feature 2')\n",
    "print('SGD Classifier : {}'.format(sgd_time_2))\n",
    "print('knn Classifier : {}'.format(knn_time_2))\n",
    "print('tree Classifier : {}'.format(tree_time_2))\n",
    "print('SVC Classifier : {}'.format(svc_time_2))\n",
    "print('Using PCA : feature 3')\n",
    "print('SGD Classifier : {}'.format(sgd_time_3))\n",
    "print('knn Classifier : {}'.format(knn_time_3))\n",
    "print('tree Classifier : {}'.format(tree_time_3))\n",
    "print('SVC Classifier : {}'.format(svc_time_3))\n",
    "print('Using PCA : feature 5')\n",
    "print('SGD Classifier : {}'.format(sgd_time_5))\n",
    "print('knn Classifier : {}'.format(knn_time_5))\n",
    "print('tree Classifier : {}'.format(tree_time_5))\n",
    "print('SVC Classifier : {}'.format(svc_time_5))"
   ]
  },
  {
   "cell_type": "code",
   "execution_count": 24,
   "metadata": {},
   "outputs": [
    {
     "name": "stdout",
     "output_type": "stream",
     "text": [
      "[0.95355286 0.04062238]\n",
      "[0.95355286 0.04062238 0.00482557]\n",
      "[9.53552856e-01 4.06223786e-02 4.82556665e-03 4.94432602e-04\n",
      " 3.46689059e-04]\n"
     ]
    }
   ],
   "source": [
    "#Explained Variance Ratio\n",
    "print(pca_2.explained_variance_ratio_)\n",
    "print(pca_3.explained_variance_ratio_)\n",
    "print(pca_5.explained_variance_ratio_)"
   ]
  },
  {
   "cell_type": "code",
   "execution_count": null,
   "metadata": {},
   "outputs": [],
   "source": []
  }
 ],
 "metadata": {
  "kernelspec": {
   "display_name": "Python 3",
   "language": "python",
   "name": "python3"
  },
  "language_info": {
   "codemirror_mode": {
    "name": "ipython",
    "version": 3
   },
   "file_extension": ".py",
   "mimetype": "text/x-python",
   "name": "python",
   "nbconvert_exporter": "python",
   "pygments_lexer": "ipython3",
   "version": "3.6.8"
  }
 },
 "nbformat": 4,
 "nbformat_minor": 2
}
