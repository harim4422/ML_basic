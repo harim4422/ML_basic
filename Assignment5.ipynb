{
 "cells": [
  {
   "cell_type": "markdown",
   "metadata": {},
   "source": [
    "# Lab 5. Using Support Vector Machine\n",
    "## 5.1 Using Support Vector Machine Classification\n",
    "- step 1. Load Moon test dataset"
   ]
  },
  {
   "cell_type": "code",
   "execution_count": 1,
   "metadata": {},
   "outputs": [],
   "source": [
    "#Step1.load Moon test Dataset\n",
    "from sklearn import datasets\n",
    "moon = datasets.make_moons(shuffle=False)\n",
    "X = moon[0][:, 0].reshape(-1,1) #use only a features x1\n",
    "y=moon[1] #label"
   ]
  },
  {
   "cell_type": "code",
   "execution_count": 2,
   "metadata": {},
   "outputs": [
    {
     "name": "stderr",
     "output_type": "stream",
     "text": [
      "D:\\Python\\anaconda\\lib\\site-packages\\sklearn\\utils\\deprecation.py:58: DeprecationWarning: Class Imputer is deprecated; Imputer was deprecated in version 0.20 and will be removed in 0.22. Import impute.SimpleImputer from sklearn instead.\n",
      "  warnings.warn(msg, category=DeprecationWarning)\n"
     ]
    }
   ],
   "source": [
    "from sklearn.pipeline import Pipeline\n",
    "from sklearn.preprocessing import Imputer\n",
    "from sklearn.preprocessing import StandardScaler\n",
    "num_pipeline = Pipeline([\n",
    "        ('imputer', Imputer(strategy=\"median\")),\n",
    "        ('std_scaler', StandardScaler()),\n",
    "    ])\n",
    "X_prepared = num_pipeline.fit_transform(X)"
   ]
  },
  {
   "cell_type": "code",
   "execution_count": 3,
   "metadata": {},
   "outputs": [],
   "source": [
    "#training set & test set 나누기\n",
    "from sklearn.model_selection import train_test_split\n",
    "X_train , X_test , y_train , y_test = train_test_split(X_prepared,y,test_size=0.2,random_state=42)"
   ]
  },
  {
   "cell_type": "markdown",
   "metadata": {},
   "source": [
    "- Step 2. Train linear and non-linear SVC model using the dataset"
   ]
  },
  {
   "cell_type": "code",
   "execution_count": 4,
   "metadata": {
    "scrolled": true
   },
   "outputs": [
    {
     "name": "stdout",
     "output_type": "stream",
     "text": [
      "linear svc training time : 0.0009968280792236328\n",
      "polynomial linear svc training time : 0.003989219665527344\n"
     ]
    },
    {
     "name": "stderr",
     "output_type": "stream",
     "text": [
      "D:\\Python\\anaconda\\lib\\site-packages\\sklearn\\svm\\base.py:922: ConvergenceWarning: Liblinear failed to converge, increase the number of iterations.\n",
      "  \"the number of iterations.\", ConvergenceWarning)\n"
     ]
    }
   ],
   "source": [
    "#LinearSVC\n",
    "import time\n",
    "from sklearn.svm import LinearSVC\n",
    "from sklearn.preprocessing import PolynomialFeatures\n",
    "lin_svm_clf = LinearSVC(C=10, loss=\"hinge\", random_state=42)\n",
    "poly_svm_clf = Pipeline([\n",
    "        (\"poly_features\", PolynomialFeatures(degree=3)),\n",
    "        (\"linear_svc\", LinearSVC(C=10, loss=\"hinge\", random_state=42)),\n",
    "    ])\n",
    "start_time = time.time()\n",
    "lin_svm_clf.fit(X_train,y_train)\n",
    "print('linear svc training time : {}'.format(time.time()-start_time))\n",
    "start_time = time.time()\n",
    "poly_svm_clf.fit(X_train,y_train)\n",
    "print('polynomial linear svc training time : {}'.format(time.time()-start_time))"
   ]
  },
  {
   "cell_type": "code",
   "execution_count": 5,
   "metadata": {},
   "outputs": [
    {
     "name": "stderr",
     "output_type": "stream",
     "text": [
      "D:\\Python\\anaconda\\lib\\site-packages\\sklearn\\svm\\base.py:196: FutureWarning: The default value of gamma will change from 'auto' to 'scale' in version 0.22 to account better for unscaled features. Set gamma explicitly to 'auto' or 'scale' to avoid this warning.\n",
      "  \"avoid this warning.\", FutureWarning)\n"
     ]
    },
    {
     "name": "stdout",
     "output_type": "stream",
     "text": [
      "polynomial kernel svc training time : 0.001995563507080078\n",
      "rbf kernel svc training time : 0.0019943714141845703\n"
     ]
    }
   ],
   "source": [
    "#SVC : Non-Linear\n",
    "from sklearn.svm import SVC\n",
    "poly_kernel_svm_clf = SVC(kernel='poly',coef0=1, C=5,random_state=42)\n",
    "rbf_kernel_svm_clf = SVC(kernel='rbf',gamma=5, C=0.001,random_state=42)\n",
    "start_time = time.time()\n",
    "poly_kernel_svm_clf.fit(X_train,y_train)\n",
    "print('polynomial kernel svc training time : {}'.format(time.time()-start_time))\n",
    "start_time = time.time()\n",
    "rbf_kernel_svm_clf.fit(X_train,y_train)\n",
    "print('rbf kernel svc training time : {}'.format(time.time()-start_time))"
   ]
  },
  {
   "cell_type": "markdown",
   "metadata": {},
   "source": [
    "- Step 3. Evaluate that whether the dataset is linear or not"
   ]
  },
  {
   "cell_type": "code",
   "execution_count": 6,
   "metadata": {
    "scrolled": true
   },
   "outputs": [
    {
     "name": "stdout",
     "output_type": "stream",
     "text": [
      "Linear SVC Accuracy : 0.75\n",
      "Polynomial_Linear SVC Accuracy : 0.7\n",
      "Polynomial_Kernel SVC Accuracy : 0.7\n",
      "rbf_Kernel SVC Accuracy : 0.4\n"
     ]
    }
   ],
   "source": [
    "from sklearn.metrics import accuracy_score\n",
    "def getScore(model):\n",
    "    y_score = model.predict(X_test)\n",
    "    accuracy = accuracy_score(y_test,y_score)\n",
    "    return accuracy\n",
    "#linearSVC\n",
    "print('Linear SVC Accuracy : {}'.format(getScore(lin_svm_clf)))\n",
    "print('Polynomial_Linear SVC Accuracy : {}'.format(getScore(poly_svm_clf)))\n",
    "print('Polynomial_Kernel SVC Accuracy : {}'.format(getScore(poly_kernel_svm_clf)))\n",
    "print('rbf_Kernel SVC Accuracy : {}'.format(getScore(rbf_kernel_svm_clf)))"
   ]
  },
  {
   "cell_type": "markdown",
   "metadata": {},
   "source": [
    "- Step 4. Find the best hyperparameter in the picked model"
   ]
  },
  {
   "cell_type": "code",
   "execution_count": 7,
   "metadata": {},
   "outputs": [],
   "source": [
    "def getAccuracy(grid):\n",
    "    cvres =grid.cv_results_\n",
    "    for mean_score, params in zip(cvres[\"mean_train_score\"], cvres[\"params\"]):\n",
    "        print(mean_score, params)\n",
    "    print('##########################################################')\n",
    "    print('Best hyperparameter: {}'.format(grid.best_params_))\n",
    "    print('Best accuracy of hyperparameter : {}'.format(grid.best_score_))"
   ]
  },
  {
   "cell_type": "code",
   "execution_count": 8,
   "metadata": {
    "scrolled": true
   },
   "outputs": [
    {
     "name": "stdout",
     "output_type": "stream",
     "text": [
      "0.6458049285055845 {'C': 0.001}\n",
      "0.6458049285055845 {'C': 0.01}\n",
      "0.6471943533346196 {'C': 0.1}\n",
      "0.65412030784402 {'C': 5}\n",
      "0.65412030784402 {'C': 10}\n",
      "0.6554706090423821 {'C': 100}\n",
      "##########################################################\n",
      "Best hyperparameter: {'C': 0.1}\n",
      "Best accuracy of hyperparameter : 0.65\n"
     ]
    },
    {
     "name": "stderr",
     "output_type": "stream",
     "text": [
      "D:\\Python\\anaconda\\lib\\site-packages\\sklearn\\model_selection\\_search.py:841: DeprecationWarning: The default of the `iid` parameter will change from True to False in version 0.22 and will be removed in 0.24. This will change numeric results when test-set sizes are unequal.\n",
      "  DeprecationWarning)\n",
      "D:\\Python\\anaconda\\lib\\site-packages\\sklearn\\utils\\deprecation.py:125: FutureWarning: You are accessing a training score ('mean_train_score'), which will not be available by default any more in 0.21. If you need training scores, please set return_train_score=True\n",
      "  warnings.warn(*warn_args, **warn_kwargs)\n"
     ]
    }
   ],
   "source": [
    "#pick : linearSVC\n",
    "#Grid Search\n",
    "from sklearn.model_selection import GridSearchCV\n",
    "lin_svc = LinearSVC(loss=\"hinge\", random_state=42)\n",
    "param_grid=[\n",
    "    {'C':[0.001,0.01,0.1,5,10,100]}\n",
    "]\n",
    "grid_svc =GridSearchCV(lin_svc, param_grid, scoring='accuracy', cv=10, n_jobs=-1)\n",
    "grid_svc.fit(X_train,y_train)\n",
    "getAccuracy(grid_svc)"
   ]
  },
  {
   "cell_type": "markdown",
   "metadata": {},
   "source": [
    "- Step 5. Train the picked model again using all features."
   ]
  },
  {
   "cell_type": "code",
   "execution_count": 9,
   "metadata": {},
   "outputs": [],
   "source": [
    "#using all features\n",
    "#picked model = poly Kernel SVM Classification\n",
    "X_all = moon[0]\n",
    "X_prepared = num_pipeline.fit_transform(X_all)\n",
    "X_train , X_test , y_train , y_test = train_test_split(X_prepared,y,test_size=0.2,random_state=42)"
   ]
  },
  {
   "cell_type": "code",
   "execution_count": 10,
   "metadata": {},
   "outputs": [
    {
     "name": "stdout",
     "output_type": "stream",
     "text": [
      "poly kernel svc training time : 0.001994609832763672\n",
      "poly_Kernel SVC Accuracy : 0.85\n"
     ]
    }
   ],
   "source": [
    "#training time & accuracy\n",
    "lin_svc_2 = LinearSVC(C=0.1, loss=\"hinge\", random_state=42)\n",
    "start_time = time.time()\n",
    "lin_svc_2.fit(X_train,y_train)\n",
    "print('poly kernel svc training time : {}'.format(time.time()-start_time))\n",
    "print('poly_Kernel SVC Accuracy : {}'.format(getScore(lin_svc_2)))"
   ]
  },
  {
   "cell_type": "code",
   "execution_count": 12,
   "metadata": {},
   "outputs": [
    {
     "name": "stdout",
     "output_type": "stream",
     "text": [
      "0.849949621626257 {'C': 0.001}\n",
      "0.8555443008124852 {'C': 0.01}\n",
      "0.8680258108774412 {'C': 0.1}\n",
      "0.8763602160910668 {'C': 5}\n",
      "0.8818972817115786 {'C': 10}\n",
      "0.8860639483782451 {'C': 100}\n",
      "##########################################################\n",
      "Best hyperparameter: {'C': 10}\n",
      "Best accuracy of hyperparameter : 0.8875\n"
     ]
    },
    {
     "name": "stderr",
     "output_type": "stream",
     "text": [
      "D:\\Python\\anaconda\\lib\\site-packages\\sklearn\\model_selection\\_search.py:841: DeprecationWarning: The default of the `iid` parameter will change from True to False in version 0.22 and will be removed in 0.24. This will change numeric results when test-set sizes are unequal.\n",
      "  DeprecationWarning)\n",
      "D:\\Python\\anaconda\\lib\\site-packages\\sklearn\\utils\\deprecation.py:125: FutureWarning: You are accessing a training score ('mean_train_score'), which will not be available by default any more in 0.21. If you need training scores, please set return_train_score=True\n",
      "  warnings.warn(*warn_args, **warn_kwargs)\n"
     ]
    }
   ],
   "source": [
    "#grid search\n",
    "lin_svc_3 = LinearSVC(C=0.1, loss=\"hinge\", random_state=42)\n",
    "grid_poly_2 =GridSearchCV(lin_svc_3, param_grid, scoring='accuracy', cv=10, n_jobs=-1)\n",
    "grid_poly_2.fit(X_train,y_train)\n",
    "getAccuracy(grid_poly_2)"
   ]
  },
  {
   "cell_type": "code",
   "execution_count": null,
   "metadata": {},
   "outputs": [],
   "source": []
  }
 ],
 "metadata": {
  "kernelspec": {
   "display_name": "Python 3",
   "language": "python",
   "name": "python3"
  },
  "language_info": {
   "codemirror_mode": {
    "name": "ipython",
    "version": 3
   },
   "file_extension": ".py",
   "mimetype": "text/x-python",
   "name": "python",
   "nbconvert_exporter": "python",
   "pygments_lexer": "ipython3",
   "version": "3.6.7"
  }
 },
 "nbformat": 4,
 "nbformat_minor": 2
}
