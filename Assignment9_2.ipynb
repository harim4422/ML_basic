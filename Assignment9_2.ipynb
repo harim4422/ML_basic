{
 "cells": [
  {
   "cell_type": "markdown",
   "metadata": {},
   "source": [
    "# 9.2 Save tensorflow Model and Use Tensorboard"
   ]
  },
  {
   "cell_type": "markdown",
   "metadata": {},
   "source": [
    "## Step 1. Make new graph "
   ]
  },
  {
   "cell_type": "code",
   "execution_count": 4,
   "metadata": {},
   "outputs": [],
   "source": [
    "import tensorflow as tf\n",
    "x=tf.placeholder(tf.float32, shape=(None,3))\n",
    "y = x**2 + 3*x + 2\n",
    "z = (x**2)*y + 3*y + 2*x + 1"
   ]
  },
  {
   "cell_type": "markdown",
   "metadata": {},
   "source": [
    "## Step 2. Evaluate the graph and Save every step’s model log"
   ]
  },
  {
   "cell_type": "code",
   "execution_count": 5,
   "metadata": {},
   "outputs": [
    {
     "name": "stdout",
     "output_type": "stream",
     "text": [
      "y_evaluation :  [[  6.  12.  20.]\n",
      " [110.  90.  72.]]\n",
      "z_evaluation :  [[  27.   89.  247.]\n",
      " [9259. 6047. 3759.]]\n"
     ]
    }
   ],
   "source": [
    "with tf.Session() as sess:\n",
    "    y_val = y.eval(feed_dict={x: [[1,2,3],[9,8,7]]})\n",
    "    z_val = z.eval(feed_dict={x: [[1,2,3],[9,8,7]]})\n",
    "print('y_evaluation : ',y_val)\n",
    "print('z_evaluation : ',z_val)"
   ]
  },
  {
   "cell_type": "code",
   "execution_count": null,
   "metadata": {},
   "outputs": [],
   "source": []
  },
  {
   "cell_type": "markdown",
   "metadata": {},
   "source": [
    "## Step 3. Show the graph and variable using Tensorboard"
   ]
  },
  {
   "cell_type": "code",
   "execution_count": null,
   "metadata": {},
   "outputs": [],
   "source": []
  }
 ],
 "metadata": {
  "kernelspec": {
   "display_name": "Python 3",
   "language": "python",
   "name": "python3"
  },
  "language_info": {
   "codemirror_mode": {
    "name": "ipython",
    "version": 3
   },
   "file_extension": ".py",
   "mimetype": "text/x-python",
   "name": "python",
   "nbconvert_exporter": "python",
   "pygments_lexer": "ipython3",
   "version": "3.6.7"
  }
 },
 "nbformat": 4,
 "nbformat_minor": 2
}
