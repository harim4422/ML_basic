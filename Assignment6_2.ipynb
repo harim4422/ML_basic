{
 "cells": [
  {
   "cell_type": "markdown",
   "metadata": {},
   "source": [
    "- Step 1. Load Dataset"
   ]
  },
  {
   "cell_type": "code",
   "execution_count": 1,
   "metadata": {},
   "outputs": [],
   "source": [
    "#dataset : Medical Cost Personal Datasets (https://www.kaggle.com/mirichoi0218/insurance/data)\n",
    "import pandas as pd\n",
    "insurance = pd.read_csv('./datasets/insurance/insurance.csv')\n",
    "X=insurance.drop(['sex','smoker','region','charges'],axis=1).values\n",
    "y=insurance.charges.values"
   ]
  },
  {
   "cell_type": "code",
   "execution_count": 2,
   "metadata": {},
   "outputs": [
    {
     "name": "stderr",
     "output_type": "stream",
     "text": [
      "D:\\Python\\anaconda\\lib\\site-packages\\sklearn\\utils\\deprecation.py:58: DeprecationWarning: Class Imputer is deprecated; Imputer was deprecated in version 0.20 and will be removed in 0.22. Import impute.SimpleImputer from sklearn instead.\n",
      "  warnings.warn(msg, category=DeprecationWarning)\n"
     ]
    }
   ],
   "source": [
    "#Do preprocessing\n",
    "from sklearn.pipeline import Pipeline\n",
    "from sklearn.preprocessing import StandardScaler\n",
    "from sklearn.preprocessing import Imputer\n",
    "num_pipeline = Pipeline([\n",
    "        ('imputer', Imputer(strategy=\"median\")),\n",
    "        ('std_scaler', StandardScaler()),\n",
    "    ])\n",
    "X_prepared = num_pipeline.fit_transform(X) #정제된 X"
   ]
  },
  {
   "cell_type": "code",
   "execution_count": 3,
   "metadata": {},
   "outputs": [],
   "source": [
    "#training set & test set 나누기\n",
    "from sklearn.model_selection import train_test_split\n",
    "import numpy as np\n",
    "X_train , X_test , y_train , y_test = train_test_split(X_prepared,y,test_size=0.2,random_state=42)"
   ]
  },
  {
   "cell_type": "markdown",
   "metadata": {},
   "source": [
    "- Step 2. Train decision tree regression model using the dataset."
   ]
  },
  {
   "cell_type": "code",
   "execution_count": 4,
   "metadata": {},
   "outputs": [
    {
     "data": {
      "text/plain": [
       "DecisionTreeRegressor(criterion='mse', max_depth=4, max_features=None,\n",
       "           max_leaf_nodes=None, min_impurity_decrease=0.0,\n",
       "           min_impurity_split=None, min_samples_leaf=1,\n",
       "           min_samples_split=2, min_weight_fraction_leaf=0.0,\n",
       "           presort=False, random_state=42, splitter='best')"
      ]
     },
     "execution_count": 4,
     "metadata": {},
     "output_type": "execute_result"
    }
   ],
   "source": [
    "#use only a features --> age \n",
    "from sklearn.tree import DecisionTreeRegressor\n",
    "X_1=X_train[:,0].reshape(-1, 1) #age\n",
    "dt_reg_2 = DecisionTreeRegressor(max_depth=2, random_state=42)\n",
    "dt_reg_3 = DecisionTreeRegressor(max_depth=3, random_state=42)\n",
    "dt_reg_4 = DecisionTreeRegressor(max_depth=4, random_state=42)\n",
    "dt_reg_2.fit(X_1, y_train)\n",
    "dt_reg_3.fit(X_1, y_train)\n",
    "dt_reg_4.fit(X_1, y_train)"
   ]
  },
  {
   "cell_type": "code",
   "execution_count": 5,
   "metadata": {},
   "outputs": [],
   "source": [
    "#case1 : Compare prediction results using same data.\n",
    "some_data = X_test[:,0].reshape(-1, 1) #예제 data\n",
    "some_labels = y_test[13] #실제 label : 46151.1245"
   ]
  },
  {
   "cell_type": "code",
   "execution_count": 6,
   "metadata": {},
   "outputs": [
    {
     "name": "stdout",
     "output_type": "stream",
     "text": [
      "depth2 prediction : [15678.70375214]\n",
      "depth3 prediction : [15559.41588868]\n",
      "depth4 prediction : [14945.46669901]\n"
     ]
    }
   ],
   "source": [
    "print(\"depth2 prediction : {}\".format(dt_reg_2.predict([some_data[13]])))\n",
    "print(\"depth3 prediction : {}\".format(dt_reg_3.predict([some_data[13]])))\n",
    "print(\"depth4 prediction : {}\".format(dt_reg_4.predict([some_data[13]])))"
   ]
  },
  {
   "cell_type": "code",
   "execution_count": 7,
   "metadata": {},
   "outputs": [],
   "source": [
    "#compare RMSE (cross_val)\n",
    "from sklearn.model_selection import cross_val_score\n",
    "dep2_mse = cross_val_score(dt_reg_2, X_1, y_train, scoring=\"neg_mean_squared_error\", cv=10)\n",
    "dep2_rmse = np.sqrt(-dep2_mse)\n",
    "dep3_mse = cross_val_score(dt_reg_3, X_1, y_train, scoring=\"neg_mean_squared_error\", cv=10)\n",
    "dep3_rmse = np.sqrt(-dep3_mse)\n",
    "dep4_mse = cross_val_score(dt_reg_4, X_1, y_train, scoring=\"neg_mean_squared_error\", cv=10)\n",
    "dep4_rmse = np.sqrt(-dep4_mse)"
   ]
  },
  {
   "cell_type": "code",
   "execution_count": 8,
   "metadata": {},
   "outputs": [
    {
     "name": "stdout",
     "output_type": "stream",
     "text": [
      "RMSE 비교\n",
      "depth2 : 11515.884960248783\n",
      "depth3 : 11581.021680743117\n",
      "depth4 : 11628.530681730392\n"
     ]
    }
   ],
   "source": [
    "#print RMSE\n",
    "print('RMSE 비교')\n",
    "print('depth2 : {}'.format(dep2_rmse.mean()))\n",
    "print('depth3 : {}'.format(dep3_rmse.mean()))\n",
    "print('depth4 : {}'.format(dep4_rmse.mean()))"
   ]
  },
  {
   "cell_type": "markdown",
   "metadata": {},
   "source": [
    "- Step 3. Find the best hyperparameter in the picked model."
   ]
  },
  {
   "cell_type": "code",
   "execution_count": 9,
   "metadata": {},
   "outputs": [
    {
     "data": {
      "text/plain": [
       "GridSearchCV(cv=5, error_score='raise-deprecating',\n",
       "       estimator=DecisionTreeRegressor(criterion='mse', max_depth=2, max_features=None,\n",
       "           max_leaf_nodes=None, min_impurity_decrease=0.0,\n",
       "           min_impurity_split=None, min_samples_leaf=1,\n",
       "           min_samples_split=2, min_weight_fraction_leaf=0.0,\n",
       "           presort=False, random_state=42, splitter='best'),\n",
       "       fit_params=None, iid='warn', n_jobs=None,\n",
       "       param_grid=[{'max_depth': [1, 2, 3, 4, 5, 6, 7, 8, 9, 10, 20]}],\n",
       "       pre_dispatch='2*n_jobs', refit=True, return_train_score=True,\n",
       "       scoring='neg_mean_squared_error', verbose=0)"
      ]
     },
     "execution_count": 9,
     "metadata": {},
     "output_type": "execute_result"
    }
   ],
   "source": [
    "#grid search\n",
    "from sklearn.model_selection import GridSearchCV\n",
    "dt_reg = DecisionTreeRegressor(max_depth=2, random_state=42)\n",
    "param_grid = [\n",
    "    {'max_depth': [1,2,3,4,5,6,7,8,9,10,20] }\n",
    "  ]\n",
    "grid = GridSearchCV(dt_reg,param_grid,cv=5,scoring='neg_mean_squared_error', return_train_score=True)\n",
    "grid.fit(X_1,y_train)"
   ]
  },
  {
   "cell_type": "code",
   "execution_count": 10,
   "metadata": {},
   "outputs": [
    {
     "name": "stdout",
     "output_type": "stream",
     "text": [
      "11623.348263762102 {'max_depth': 1}\n",
      "11556.991467659314 {'max_depth': 2}\n",
      "11638.556728090973 {'max_depth': 3}\n",
      "11679.136735902455 {'max_depth': 4}\n",
      "11733.598350403343 {'max_depth': 5}\n",
      "11803.514722170718 {'max_depth': 6}\n",
      "11832.225228473588 {'max_depth': 7}\n",
      "11853.750545477398 {'max_depth': 8}\n",
      "11854.261963822453 {'max_depth': 9}\n",
      "11861.367709717306 {'max_depth': 10}\n",
      "11863.502756986974 {'max_depth': 20}\n",
      "##########################################################\n",
      "Best hyperparameter: {'max_depth': 2}\n"
     ]
    }
   ],
   "source": [
    "cvres = grid.cv_results_\n",
    "for mean_score, params in zip(cvres[\"mean_test_score\"], cvres[\"params\"]):\n",
    "    print(np.sqrt(-mean_score), params)\n",
    "print('##########################################################')\n",
    "print('Best hyperparameter: {}'.format(grid.best_params_))"
   ]
  },
  {
   "cell_type": "markdown",
   "metadata": {},
   "source": [
    "- Step 4. Train the picked model again using all features."
   ]
  },
  {
   "cell_type": "code",
   "execution_count": 11,
   "metadata": {},
   "outputs": [
    {
     "name": "stdout",
     "output_type": "stream",
     "text": [
      "Best model(depth=2)'s training time using all features : 0.001991748809814453\n",
      "Best model(depth=2)'s RMSE using all features : 11524.596486065017\n"
     ]
    }
   ],
   "source": [
    "#get RMSE\n",
    "import time\n",
    "dt_best = DecisionTreeRegressor(max_depth=2, random_state=42)\n",
    "start_time = time.time()\n",
    "dt_best.fit(X_train,y_train)\n",
    "print(\"Best model(depth=2)'s training time using all features : {}\".format(time.time()-start_time))\n",
    "best_mse = cross_val_score(dt_best, X_train, y_train, scoring=\"neg_mean_squared_error\", cv=10)\n",
    "best_rmse = np.sqrt(-best_mse)\n",
    "print(\"Best model(depth=2)'s RMSE using all features : {}\".format(best_rmse.mean()))"
   ]
  }
 ],
 "metadata": {
  "kernelspec": {
   "display_name": "Python 3",
   "language": "python",
   "name": "python3"
  },
  "language_info": {
   "codemirror_mode": {
    "name": "ipython",
    "version": 3
   },
   "file_extension": ".py",
   "mimetype": "text/x-python",
   "name": "python",
   "nbconvert_exporter": "python",
   "pygments_lexer": "ipython3",
   "version": "3.6.7"
  }
 },
 "nbformat": 4,
 "nbformat_minor": 2
}
