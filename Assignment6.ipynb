{
 "cells": [
  {
   "cell_type": "markdown",
   "metadata": {},
   "source": [
    "# 6.1 Using Decision Tree Classification\n",
    "- step 1. Load Moon dataset"
   ]
  },
  {
   "cell_type": "code",
   "execution_count": 1,
   "metadata": {},
   "outputs": [],
   "source": [
    "#Step1.load Moon test Dataset\n",
    "from sklearn import datasets\n",
    "moon = datasets.make_moons(shuffle=False)\n",
    "X = moon[0]\n",
    "y=moon[1] #label"
   ]
  },
  {
   "cell_type": "code",
   "execution_count": 2,
   "metadata": {},
   "outputs": [],
   "source": [
    "#전처리\n",
    "from sklearn.model_selection import train_test_split\n",
    "#set 나누기\n",
    "X_train, X_test, y_train, y_test = train_test_split(X, y, stratify=y, random_state=42)"
   ]
  },
  {
   "cell_type": "markdown",
   "metadata": {},
   "source": [
    "- step 2. Train Decision Tree classification model."
   ]
  },
  {
   "cell_type": "code",
   "execution_count": 3,
   "metadata": {},
   "outputs": [
    {
     "data": {
      "text/plain": [
       "DecisionTreeClassifier(class_weight=None, criterion='gini', max_depth=1,\n",
       "            max_features=None, max_leaf_nodes=None,\n",
       "            min_impurity_decrease=0.0, min_impurity_split=None,\n",
       "            min_samples_leaf=1, min_samples_split=2,\n",
       "            min_weight_fraction_leaf=0.0, presort=False, random_state=42,\n",
       "            splitter='best')"
      ]
     },
     "execution_count": 3,
     "metadata": {},
     "output_type": "execute_result"
    }
   ],
   "source": [
    "from sklearn.tree import DecisionTreeClassifier\n",
    "tree_clf_1 = DecisionTreeClassifier(max_depth=1, random_state=42)\n",
    "tree_clf_1.fit(X_train,y_train)"
   ]
  },
  {
   "cell_type": "code",
   "execution_count": 4,
   "metadata": {},
   "outputs": [
    {
     "data": {
      "text/plain": [
       "DecisionTreeClassifier(class_weight=None, criterion='gini', max_depth=2,\n",
       "            max_features=None, max_leaf_nodes=None,\n",
       "            min_impurity_decrease=0.0, min_impurity_split=None,\n",
       "            min_samples_leaf=1, min_samples_split=2,\n",
       "            min_weight_fraction_leaf=0.0, presort=False, random_state=42,\n",
       "            splitter='best')"
      ]
     },
     "execution_count": 4,
     "metadata": {},
     "output_type": "execute_result"
    }
   ],
   "source": [
    "tree_clf_2 = DecisionTreeClassifier(max_depth=2, random_state=42)\n",
    "tree_clf_2.fit(X_train,y_train)"
   ]
  },
  {
   "cell_type": "code",
   "execution_count": 5,
   "metadata": {},
   "outputs": [
    {
     "data": {
      "text/plain": [
       "DecisionTreeClassifier(class_weight=None, criterion='gini', max_depth=3,\n",
       "            max_features=None, max_leaf_nodes=None,\n",
       "            min_impurity_decrease=0.0, min_impurity_split=None,\n",
       "            min_samples_leaf=1, min_samples_split=2,\n",
       "            min_weight_fraction_leaf=0.0, presort=False, random_state=42,\n",
       "            splitter='best')"
      ]
     },
     "execution_count": 5,
     "metadata": {},
     "output_type": "execute_result"
    }
   ],
   "source": [
    "tree_clf_3 = DecisionTreeClassifier(max_depth=3, random_state=42)\n",
    "tree_clf_3.fit(X_train,y_train)"
   ]
  },
  {
   "cell_type": "markdown",
   "metadata": {},
   "source": [
    "- step 3. Check accuracy and prediction result."
   ]
  },
  {
   "cell_type": "code",
   "execution_count": 6,
   "metadata": {},
   "outputs": [
    {
     "name": "stdout",
     "output_type": "stream",
     "text": [
      "Depth=1 Accuracy : 0.76\n",
      "Depth=2 Accuracy : 0.84\n",
      "Depth=3 Accuracy : 0.84\n"
     ]
    }
   ],
   "source": [
    "from sklearn.metrics import accuracy_score\n",
    "def getScore(model):\n",
    "    y_score = model.predict(X_test)\n",
    "    accuracy = accuracy_score(y_test,y_score)\n",
    "    return accuracy\n",
    "print('Depth=1 Accuracy : {}'.format(getScore(tree_clf_1)))\n",
    "print('Depth=2 Accuracy : {}'.format(getScore(tree_clf_2)))\n",
    "print('Depth=3 Accuracy : {}'.format(getScore(tree_clf_3)))"
   ]
  },
  {
   "cell_type": "code",
   "execution_count": 7,
   "metadata": {},
   "outputs": [
    {
     "data": {
      "text/plain": [
       "(array([0.90096887, 0.43388374]), 0)"
      ]
     },
     "execution_count": 7,
     "metadata": {},
     "output_type": "execute_result"
    }
   ],
   "source": [
    "#Compare prediction results using same data.\n",
    "some_data = X_test[13] #예제 data\n",
    "some_labels = y_test[13] #실제 label : 0\n",
    "some_data , some_labels"
   ]
  },
  {
   "cell_type": "code",
   "execution_count": 8,
   "metadata": {},
   "outputs": [
    {
     "name": "stdout",
     "output_type": "stream",
     "text": [
      "Prediction of some_data\n",
      "Prediction_proba : [[0.75510204 0.24489796]]\n",
      "Prediction : [0]\n",
      "Prediction of some_data\n",
      "Prediction_proba : [[0.88095238 0.11904762]]\n",
      "Prediction : [0]\n",
      "Prediction of some_data\n",
      "Prediction_proba : [[0.75 0.25]]\n",
      "Prediction : [0]\n"
     ]
    }
   ],
   "source": [
    "def gotPredict(model,data):\n",
    "    print('Prediction of some_data')\n",
    "    print('Prediction_proba : {}'.format(model.predict_proba(data)))\n",
    "    print('Prediction : {}'.format(model.predict(data)))\n",
    "gotPredict(tree_clf_1,[some_data])\n",
    "gotPredict(tree_clf_2,[some_data])\n",
    "gotPredict(tree_clf_3,[some_data])"
   ]
  },
  {
   "cell_type": "markdown",
   "metadata": {},
   "source": [
    "- step 4. Visualize trained Decision Tree and Trained result with dataset."
   ]
  },
  {
   "cell_type": "code",
   "execution_count": 9,
   "metadata": {},
   "outputs": [],
   "source": [
    "#Use graphviz() method\n",
    "from sklearn.tree import export_graphviz\n",
    "import os\n",
    "PROJECT_ROOT_DIR = \".\"\n",
    "CHAPTER_ID = \"decision_trees\"\n",
    "\n",
    "def image_path(fig_id):\n",
    "    return os.path.join(PROJECT_ROOT_DIR, \"images\", CHAPTER_ID, fig_id)\n",
    "\n",
    "def save_fig(fig_id, tight_layout=True):\n",
    "    print(\"Saving figure\", fig_id)\n",
    "    if tight_layout:\n",
    "        plt.tight_layout()\n",
    "    plt.savefig(image_path(fig_id) + \".png\", format='png', dpi=300)\n",
    "\n",
    "def setGraphviz(model,filename):\n",
    "    export_graphviz(model, \n",
    "                    out_file=image_path(filename+\".dot\"),\n",
    "                    feature_names=[\"x1\",\"x2\"],\n",
    "                    class_names =['0','1'],\n",
    "                    rounded =True,\n",
    "                    filled = True\n",
    "        )\n",
    "setGraphviz(tree_clf_1,\"depth_One\")\n",
    "setGraphviz(tree_clf_2,\"depth_Two\")\n",
    "setGraphviz(tree_clf_3,\"depth_Three\")"
   ]
  },
  {
   "cell_type": "markdown",
   "metadata": {},
   "source": [
    "- depth1--> x2<= -0.023\n",
    "- depth2--> x2<= -0.023  // x1<=1.436\n",
    "- depth3--> x2<= -0.023  // x1<=1.436  //x2<=0.523 "
   ]
  },
  {
   "cell_type": "code",
   "execution_count": 10,
   "metadata": {},
   "outputs": [],
   "source": [
    "#Use matplotlib\n",
    "%matplotlib inline\n",
    "import matplotlib as mpl\n",
    "import numpy as np\n",
    "import matplotlib.pyplot as plt\n",
    "from matplotlib.colors import ListedColormap\n",
    "def plot_decision_boundary(clf, X, y, axes=[-1.5,2.5, -1, 1.5],moon=True ,legend=False, plot_training=True):\n",
    "    x1s = np.linspace(axes[0], axes[1], 100)\n",
    "    x2s = np.linspace(axes[2], axes[3], 100)\n",
    "    x1, x2 = np.meshgrid(x1s, x2s)\n",
    "    X_new = np.c_[x1.ravel(), x2.ravel()]\n",
    "    y_pred = clf.predict(X_new).reshape(x1.shape)\n",
    "    custom_cmap = ListedColormap(['#fafab0','#9898ff','#a0faa0'])\n",
    "    plt.contourf(x1, x2, y_pred, alpha=0.3, cmap=custom_cmap)\n",
    "    if not moon:\n",
    "        custom_cmap2 = ListedColormap(['#7d7d58','#4c4c7f','#507d50'])\n",
    "        plt.contour(x1, x2, y_pred, cmap=custom_cmap2, alpha=0.8)\n",
    "    if plot_training:\n",
    "        plt.plot(X[:, 0][y==0], X[:, 1][y==0], \"yo\", label=\"0\")\n",
    "        plt.plot(X[:, 0][y==1], X[:, 1][y==1], \"bs\", label=\"1\")\n",
    "        plt.axis(axes)\n",
    "    if moon:\n",
    "        plt.xlabel(\"x1\", fontsize=14)\n",
    "        plt.ylabel(\"x2\", fontsize=14)\n",
    "    else:\n",
    "        plt.xlabel(r\"$x_1$\", fontsize=18)\n",
    "        plt.ylabel(r\"$x_2$\", fontsize=18, rotation=0)\n",
    "    if legend:\n",
    "        plt.legend(loc=\"lower right\", fontsize=14)"
   ]
  },
  {
   "cell_type": "code",
   "execution_count": 11,
   "metadata": {},
   "outputs": [
    {
     "name": "stdout",
     "output_type": "stream",
     "text": [
      "Saving figure decision_tree_decision_boundaries_plot_1\n"
     ]
    },
    {
     "data": {
      "image/png": "[encoded data removed]",
      "text/plain": [
       "<Figure size 720x432 with 1 Axes>"
      ]
     },
     "metadata": {
      "needs_background": "light"
     },
     "output_type": "display_data"
    }
   ],
   "source": [
    "#depth=1 vis\n",
    "plt.figure(figsize=(10, 6))\n",
    "plot_decision_boundary(tree_clf_1, X_train, y_train)\n",
    "plt.plot([-2,3], [-0.023,-0.023], \"k-\", linewidth=2)\n",
    "plt.text(-1.5, 0, \"Depth=0\", fontsize=15)\n",
    "save_fig(\"decision_tree_decision_boundaries_plot_1\")\n",
    "plt.show()"
   ]
  },
  {
   "cell_type": "code",
   "execution_count": 12,
   "metadata": {},
   "outputs": [
    {
     "name": "stdout",
     "output_type": "stream",
     "text": [
      "Saving figure decision_tree_decision_boundaries_plot_2\n"
     ]
    },
    {
     "data": {
      "image/png": "[encoded data removed]",
      "text/plain": [
       "<Figure size 720x432 with 1 Axes>"
      ]
     },
     "metadata": {
      "needs_background": "light"
     },
     "output_type": "display_data"
    }
   ],
   "source": [
    "#depth=2 vis\n",
    "plt.figure(figsize=(10, 6))\n",
    "plot_decision_boundary(tree_clf_2, X_train, y_train)\n",
    "plt.plot([-2,3], [-0.023,-0.023], \"k-\", linewidth=2)\n",
    "plt.plot([1.436,1.436], [-0.023,2], \"k-\", linewidth=2)\n",
    "#plt.plot([4.95, 4.95], [0, 1.75], \"k:\", linewidth=2)\n",
    "#plt.plot([4.85, 4.85], [1.75, 3], \"k:\", linewidth=2)\n",
    "plt.text(-1.5, 0, \"Depth=0\", fontsize=13)\n",
    "plt.text(1.5, 1, \"Depth=1\", fontsize=13)\n",
    "#plt.text(4.05, 0.5, \"(Depth=2)\", fontsize=11)\n",
    "\n",
    "save_fig(\"decision_tree_decision_boundaries_plot_2\")\n",
    "plt.show()"
   ]
  },
  {
   "cell_type": "code",
   "execution_count": 13,
   "metadata": {},
   "outputs": [
    {
     "name": "stdout",
     "output_type": "stream",
     "text": [
      "Saving figure decision_tree_decision_boundaries_plot_3\n"
     ]
    },
    {
     "data": {
      "image/png": "[encoded data removed]",
      "text/plain": [
       "<Figure size 720x432 with 1 Axes>"
      ]
     },
     "metadata": {
      "needs_background": "light"
     },
     "output_type": "display_data"
    }
   ],
   "source": [
    "#depth=3 vis\n",
    "plt.figure(figsize=(10, 6))\n",
    "plot_decision_boundary(tree_clf_2, X_train, y_train)\n",
    "plt.plot([-2,3], [-0.023,-0.023], \"k-\", linewidth=2)\n",
    "plt.plot([1.436,1.436], [-0.023,2], \"k-\", linewidth=2)\n",
    "plt.plot([-2,1.436], [0.523,0.523], \"k:\", linewidth=2)\n",
    "#plt.plot([4.85, 4.85], [1.75, 3], \"k:\", linewidth=2)\n",
    "plt.text(-1.5, 0, \"Depth=0\", fontsize=13)\n",
    "plt.text(1.5, 1, \"Depth=1\", fontsize=13)\n",
    "plt.text(-1.5, 0.6, \"Depth=2\", fontsize=13)\n",
    "\n",
    "save_fig(\"decision_tree_decision_boundaries_plot_3\")\n",
    "plt.show()"
   ]
  },
  {
   "cell_type": "markdown",
   "metadata": {},
   "source": [
    "- step 5. Find the best hyperparameters combination."
   ]
  },
  {
   "cell_type": "code",
   "execution_count": 14,
   "metadata": {},
   "outputs": [
    {
     "name": "stdout",
     "output_type": "stream",
     "text": [
      "0.8133333333333334 {'max_depth': 1}\n",
      "0.9066666666666666 {'max_depth': 2}\n",
      "0.92 {'max_depth': 3}\n",
      "0.9066666666666666 {'max_depth': 4}\n",
      "0.92 {'max_depth': 5}\n",
      "0.9466666666666667 {'max_depth': 6}\n",
      "0.9466666666666667 {'max_depth': 7}\n",
      "0.9466666666666667 {'max_depth': 8}\n",
      "0.9466666666666667 {'max_depth': 9}\n",
      "0.9466666666666667 {'max_depth': 10}\n",
      "##########################################################\n",
      "Best hyperparameter: {'max_depth': 6}\n"
     ]
    },
    {
     "name": "stderr",
     "output_type": "stream",
     "text": [
      "D:\\Python\\anaconda\\lib\\site-packages\\sklearn\\model_selection\\_search.py:841: DeprecationWarning: The default of the `iid` parameter will change from True to False in version 0.22 and will be removed in 0.24. This will change numeric results when test-set sizes are unequal.\n",
      "  DeprecationWarning)\n"
     ]
    }
   ],
   "source": [
    "#grid search\n",
    "from sklearn.model_selection import GridSearchCV\n",
    "tree_clf = DecisionTreeClassifier(max_depth=1, random_state=42)\n",
    "param_grid = [\n",
    "    {'max_depth': [1,2,3,4,5,6,7,8,9,10]}\n",
    "  ]\n",
    "grid = GridSearchCV(tree_clf,param_grid,cv=10,scoring='accuracy', return_train_score=True)\n",
    "grid.fit(X_train,y_train)\n",
    "cvres = grid.cv_results_\n",
    "for mean_score, params in zip(cvres[\"mean_test_score\"], cvres[\"params\"]):\n",
    "    print(mean_score, params)\n",
    "print('##########################################################')\n",
    "print('Best hyperparameter: {}'.format(grid.best_params_))"
   ]
  },
  {
   "cell_type": "code",
   "execution_count": 15,
   "metadata": {},
   "outputs": [
    {
     "name": "stdout",
     "output_type": "stream",
     "text": [
      "0.43204937989385733 {'max_depth': 1}\n",
      "0.30550504633038933 {'max_depth': 2}\n",
      "0.282842712474619 {'max_depth': 3}\n",
      "0.30550504633038933 {'max_depth': 4}\n",
      "0.282842712474619 {'max_depth': 5}\n",
      "0.23094010767585033 {'max_depth': 6}\n",
      "0.23094010767585033 {'max_depth': 7}\n",
      "0.23094010767585033 {'max_depth': 8}\n",
      "0.23094010767585033 {'max_depth': 9}\n",
      "0.23094010767585033 {'max_depth': 10}\n",
      "##########################################################\n",
      "Best hyperparameter: {'max_depth': 6}\n"
     ]
    },
    {
     "name": "stderr",
     "output_type": "stream",
     "text": [
      "D:\\Python\\anaconda\\lib\\site-packages\\sklearn\\model_selection\\_search.py:841: DeprecationWarning: The default of the `iid` parameter will change from True to False in version 0.22 and will be removed in 0.24. This will change numeric results when test-set sizes are unequal.\n",
      "  DeprecationWarning)\n"
     ]
    }
   ],
   "source": [
    "grid2 = GridSearchCV(tree_clf,param_grid,cv=10,scoring='neg_mean_squared_error', return_train_score=True)\n",
    "grid2.fit(X_train,y_train)\n",
    "cvres2 = grid2.cv_results_\n",
    "for mean_score, params in zip(cvres2[\"mean_test_score\"], cvres2[\"params\"]):\n",
    "    print(np.sqrt(-mean_score), params)\n",
    "print('##########################################################')\n",
    "print('Best hyperparameter: {}'.format(grid2.best_params_))"
   ]
  },
  {
   "cell_type": "markdown",
   "metadata": {},
   "source": [
    "- step 6. Visualize step 5's decision tree like step 4. And Compare the results with step 4's result"
   ]
  },
  {
   "cell_type": "code",
   "execution_count": 17,
   "metadata": {},
   "outputs": [],
   "source": [
    "#best model is depth 6_decisionTreeClassification\n",
    "best_tree_clf = DecisionTreeClassifier(max_depth=6, random_state=42)\n",
    "best_tree_clf.fit(X_train,y_train)\n",
    "setGraphviz(best_tree_clf,\"depth_Six\")"
   ]
  },
  {
   "cell_type": "markdown",
   "metadata": {},
   "source": [
    "- depth 6--> x2<= -0.023  // x1<=1.436  // x2<=0.523 // x1<=0.5 // x1<=-0.463 "
   ]
  },
  {
   "cell_type": "code",
   "execution_count": 19,
   "metadata": {},
   "outputs": [
    {
     "name": "stdout",
     "output_type": "stream",
     "text": [
      "Saving figure decision_tree_decision_boundaries_plot_6\n"
     ]
    },
    {
     "data": {
      "image/png": "[encoded data removed]",
      "text/plain": [
       "<Figure size 720x432 with 1 Axes>"
      ]
     },
     "metadata": {
      "needs_background": "light"
     },
     "output_type": "display_data"
    }
   ],
   "source": [
    "#depth=6 vis\n",
    "plt.figure(figsize=(10, 6))\n",
    "plot_decision_boundary(best_tree_clf, X_train, y_train)\n",
    "plt.plot([-2,3], [-0.023,-0.023], \"k-\", linewidth=2)\n",
    "plt.plot([1.436,1.436], [-0.023,2], \"k-\", linewidth=2)\n",
    "plt.plot([-2,1.436], [0.523,0.523], \"k:\", linewidth=2)\n",
    "plt.plot([0.5,0.5], [-0.023,0.523], \"k:\", linewidth=2)\n",
    "plt.plot([-0.463,-0.463], [-0.023,0.523], \"k:\", linewidth=2)\n",
    "plt.text(-1.5, 0, \"Depth=0\", fontsize=13)\n",
    "plt.text(1.5, 1, \"Depth=1\", fontsize=13)\n",
    "plt.text(-1.5, 0.6, \"Depth=2\", fontsize=13)\n",
    "plt.text(0.5, 0.1, \"Depth=3\", fontsize=13)\n",
    "plt.text(-0.463, 0.1, \"Depth=4\", fontsize=13)\n",
    "\n",
    "save_fig(\"decision_tree_decision_boundaries_plot_6\")\n",
    "plt.show()"
   ]
  }
 ],
 "metadata": {
  "kernelspec": {
   "display_name": "Python 3",
   "language": "python",
   "name": "python3"
  },
  "language_info": {
   "codemirror_mode": {
    "name": "ipython",
    "version": 3
   },
   "file_extension": ".py",
   "mimetype": "text/x-python",
   "name": "python",
   "nbconvert_exporter": "python",
   "pygments_lexer": "ipython3",
   "version": "3.6.7"
  }
 },
 "nbformat": 4,
 "nbformat_minor": 2
}
