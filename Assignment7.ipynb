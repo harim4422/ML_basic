{
 "cells": [
  {
   "cell_type": "markdown",
   "metadata": {},
   "source": [
    "# Step 1. select real dataset"
   ]
  },
  {
   "cell_type": "code",
   "execution_count": 1,
   "metadata": {},
   "outputs": [
    {
     "data": {
      "text/html": [
       "<div>\n",
       "<style scoped>\n",
       "    .dataframe tbody tr th:only-of-type {\n",
       "        vertical-align: middle;\n",
       "    }\n",
       "\n",
       "    .dataframe tbody tr th {\n",
       "        vertical-align: top;\n",
       "    }\n",
       "\n",
       "    .dataframe thead th {\n",
       "        text-align: right;\n",
       "    }\n",
       "</style>\n",
       "<table border=\"1\" class=\"dataframe\">\n",
       "  <thead>\n",
       "    <tr style=\"text-align: right;\">\n",
       "      <th></th>\n",
       "      <th>class</th>\n",
       "      <th>cap-shape</th>\n",
       "      <th>cap-surface</th>\n",
       "      <th>cap-color</th>\n",
       "      <th>bruises</th>\n",
       "      <th>odor</th>\n",
       "      <th>gill-attachment</th>\n",
       "      <th>gill-spacing</th>\n",
       "      <th>gill-size</th>\n",
       "      <th>gill-color</th>\n",
       "      <th>...</th>\n",
       "      <th>stalk-surface-below-ring</th>\n",
       "      <th>stalk-color-above-ring</th>\n",
       "      <th>stalk-color-below-ring</th>\n",
       "      <th>veil-type</th>\n",
       "      <th>veil-color</th>\n",
       "      <th>ring-number</th>\n",
       "      <th>ring-type</th>\n",
       "      <th>spore-print-color</th>\n",
       "      <th>population</th>\n",
       "      <th>habitat</th>\n",
       "    </tr>\n",
       "  </thead>\n",
       "  <tbody>\n",
       "    <tr>\n",
       "      <th>0</th>\n",
       "      <td>p</td>\n",
       "      <td>x</td>\n",
       "      <td>s</td>\n",
       "      <td>n</td>\n",
       "      <td>t</td>\n",
       "      <td>p</td>\n",
       "      <td>f</td>\n",
       "      <td>c</td>\n",
       "      <td>n</td>\n",
       "      <td>k</td>\n",
       "      <td>...</td>\n",
       "      <td>s</td>\n",
       "      <td>w</td>\n",
       "      <td>w</td>\n",
       "      <td>p</td>\n",
       "      <td>w</td>\n",
       "      <td>o</td>\n",
       "      <td>p</td>\n",
       "      <td>k</td>\n",
       "      <td>s</td>\n",
       "      <td>u</td>\n",
       "    </tr>\n",
       "    <tr>\n",
       "      <th>1</th>\n",
       "      <td>e</td>\n",
       "      <td>x</td>\n",
       "      <td>s</td>\n",
       "      <td>y</td>\n",
       "      <td>t</td>\n",
       "      <td>a</td>\n",
       "      <td>f</td>\n",
       "      <td>c</td>\n",
       "      <td>b</td>\n",
       "      <td>k</td>\n",
       "      <td>...</td>\n",
       "      <td>s</td>\n",
       "      <td>w</td>\n",
       "      <td>w</td>\n",
       "      <td>p</td>\n",
       "      <td>w</td>\n",
       "      <td>o</td>\n",
       "      <td>p</td>\n",
       "      <td>n</td>\n",
       "      <td>n</td>\n",
       "      <td>g</td>\n",
       "    </tr>\n",
       "    <tr>\n",
       "      <th>2</th>\n",
       "      <td>e</td>\n",
       "      <td>b</td>\n",
       "      <td>s</td>\n",
       "      <td>w</td>\n",
       "      <td>t</td>\n",
       "      <td>l</td>\n",
       "      <td>f</td>\n",
       "      <td>c</td>\n",
       "      <td>b</td>\n",
       "      <td>n</td>\n",
       "      <td>...</td>\n",
       "      <td>s</td>\n",
       "      <td>w</td>\n",
       "      <td>w</td>\n",
       "      <td>p</td>\n",
       "      <td>w</td>\n",
       "      <td>o</td>\n",
       "      <td>p</td>\n",
       "      <td>n</td>\n",
       "      <td>n</td>\n",
       "      <td>m</td>\n",
       "    </tr>\n",
       "    <tr>\n",
       "      <th>3</th>\n",
       "      <td>p</td>\n",
       "      <td>x</td>\n",
       "      <td>y</td>\n",
       "      <td>w</td>\n",
       "      <td>t</td>\n",
       "      <td>p</td>\n",
       "      <td>f</td>\n",
       "      <td>c</td>\n",
       "      <td>n</td>\n",
       "      <td>n</td>\n",
       "      <td>...</td>\n",
       "      <td>s</td>\n",
       "      <td>w</td>\n",
       "      <td>w</td>\n",
       "      <td>p</td>\n",
       "      <td>w</td>\n",
       "      <td>o</td>\n",
       "      <td>p</td>\n",
       "      <td>k</td>\n",
       "      <td>s</td>\n",
       "      <td>u</td>\n",
       "    </tr>\n",
       "    <tr>\n",
       "      <th>4</th>\n",
       "      <td>e</td>\n",
       "      <td>x</td>\n",
       "      <td>s</td>\n",
       "      <td>g</td>\n",
       "      <td>f</td>\n",
       "      <td>n</td>\n",
       "      <td>f</td>\n",
       "      <td>w</td>\n",
       "      <td>b</td>\n",
       "      <td>k</td>\n",
       "      <td>...</td>\n",
       "      <td>s</td>\n",
       "      <td>w</td>\n",
       "      <td>w</td>\n",
       "      <td>p</td>\n",
       "      <td>w</td>\n",
       "      <td>o</td>\n",
       "      <td>e</td>\n",
       "      <td>n</td>\n",
       "      <td>a</td>\n",
       "      <td>g</td>\n",
       "    </tr>\n",
       "  </tbody>\n",
       "</table>\n",
       "<p>5 rows × 23 columns</p>\n",
       "</div>"
      ],
      "text/plain": [
       "  class cap-shape cap-surface cap-color bruises odor gill-attachment  \\\n",
       "0     p         x           s         n       t    p               f   \n",
       "1     e         x           s         y       t    a               f   \n",
       "2     e         b           s         w       t    l               f   \n",
       "3     p         x           y         w       t    p               f   \n",
       "4     e         x           s         g       f    n               f   \n",
       "\n",
       "  gill-spacing gill-size gill-color  ... stalk-surface-below-ring  \\\n",
       "0            c         n          k  ...                        s   \n",
       "1            c         b          k  ...                        s   \n",
       "2            c         b          n  ...                        s   \n",
       "3            c         n          n  ...                        s   \n",
       "4            w         b          k  ...                        s   \n",
       "\n",
       "  stalk-color-above-ring stalk-color-below-ring veil-type veil-color  \\\n",
       "0                      w                      w         p          w   \n",
       "1                      w                      w         p          w   \n",
       "2                      w                      w         p          w   \n",
       "3                      w                      w         p          w   \n",
       "4                      w                      w         p          w   \n",
       "\n",
       "  ring-number ring-type spore-print-color population habitat  \n",
       "0           o         p                 k          s       u  \n",
       "1           o         p                 n          n       g  \n",
       "2           o         p                 n          n       m  \n",
       "3           o         p                 k          s       u  \n",
       "4           o         e                 n          a       g  \n",
       "\n",
       "[5 rows x 23 columns]"
      ]
     },
     "execution_count": 1,
     "metadata": {},
     "output_type": "execute_result"
    }
   ],
   "source": [
    "#dataset : Mushrooms Classification (https://www.kaggle.com/mirichoi0218/insurance/data)\n",
    "import pandas as pd\n",
    "mushrooms = pd.read_csv('./datasets/mushrooms/mushrooms.csv')\n",
    "mushrooms.head()"
   ]
  },
  {
   "cell_type": "code",
   "execution_count": 2,
   "metadata": {},
   "outputs": [
    {
     "data": {
      "text/plain": [
       "(8124, 23)"
      ]
     },
     "execution_count": 2,
     "metadata": {},
     "output_type": "execute_result"
    }
   ],
   "source": [
    "mushrooms.shape"
   ]
  },
  {
   "cell_type": "markdown",
   "metadata": {},
   "source": [
    "# Step 2.1 Do Preprocessing"
   ]
  },
  {
   "cell_type": "code",
   "execution_count": 3,
   "metadata": {},
   "outputs": [
    {
     "data": {
      "text/plain": [
       "class                       0\n",
       "cap-shape                   0\n",
       "cap-surface                 0\n",
       "cap-color                   0\n",
       "bruises                     0\n",
       "odor                        0\n",
       "gill-attachment             0\n",
       "gill-spacing                0\n",
       "gill-size                   0\n",
       "gill-color                  0\n",
       "stalk-shape                 0\n",
       "stalk-root                  0\n",
       "stalk-surface-above-ring    0\n",
       "stalk-surface-below-ring    0\n",
       "stalk-color-above-ring      0\n",
       "stalk-color-below-ring      0\n",
       "veil-type                   0\n",
       "veil-color                  0\n",
       "ring-number                 0\n",
       "ring-type                   0\n",
       "spore-print-color           0\n",
       "population                  0\n",
       "habitat                     0\n",
       "dtype: int64"
      ]
     },
     "execution_count": 3,
     "metadata": {},
     "output_type": "execute_result"
    }
   ],
   "source": [
    "#check missing data\n",
    "mushrooms.isnull().sum()"
   ]
  },
  {
   "cell_type": "code",
   "execution_count": 4,
   "metadata": {},
   "outputs": [
    {
     "data": {
      "text/html": [
       "<div>\n",
       "<style scoped>\n",
       "    .dataframe tbody tr th:only-of-type {\n",
       "        vertical-align: middle;\n",
       "    }\n",
       "\n",
       "    .dataframe tbody tr th {\n",
       "        vertical-align: top;\n",
       "    }\n",
       "\n",
       "    .dataframe thead th {\n",
       "        text-align: right;\n",
       "    }\n",
       "</style>\n",
       "<table border=\"1\" class=\"dataframe\">\n",
       "  <thead>\n",
       "    <tr style=\"text-align: right;\">\n",
       "      <th></th>\n",
       "      <th>class</th>\n",
       "      <th>cap-shape</th>\n",
       "      <th>cap-surface</th>\n",
       "      <th>cap-color</th>\n",
       "      <th>bruises</th>\n",
       "      <th>odor</th>\n",
       "      <th>gill-attachment</th>\n",
       "      <th>gill-spacing</th>\n",
       "      <th>gill-size</th>\n",
       "      <th>gill-color</th>\n",
       "      <th>...</th>\n",
       "      <th>stalk-surface-below-ring</th>\n",
       "      <th>stalk-color-above-ring</th>\n",
       "      <th>stalk-color-below-ring</th>\n",
       "      <th>veil-type</th>\n",
       "      <th>veil-color</th>\n",
       "      <th>ring-number</th>\n",
       "      <th>ring-type</th>\n",
       "      <th>spore-print-color</th>\n",
       "      <th>population</th>\n",
       "      <th>habitat</th>\n",
       "    </tr>\n",
       "  </thead>\n",
       "  <tbody>\n",
       "    <tr>\n",
       "      <th>0</th>\n",
       "      <td>1</td>\n",
       "      <td>5</td>\n",
       "      <td>2</td>\n",
       "      <td>4</td>\n",
       "      <td>1</td>\n",
       "      <td>6</td>\n",
       "      <td>1</td>\n",
       "      <td>0</td>\n",
       "      <td>1</td>\n",
       "      <td>4</td>\n",
       "      <td>...</td>\n",
       "      <td>2</td>\n",
       "      <td>7</td>\n",
       "      <td>7</td>\n",
       "      <td>0</td>\n",
       "      <td>2</td>\n",
       "      <td>1</td>\n",
       "      <td>4</td>\n",
       "      <td>2</td>\n",
       "      <td>3</td>\n",
       "      <td>5</td>\n",
       "    </tr>\n",
       "    <tr>\n",
       "      <th>1</th>\n",
       "      <td>0</td>\n",
       "      <td>5</td>\n",
       "      <td>2</td>\n",
       "      <td>9</td>\n",
       "      <td>1</td>\n",
       "      <td>0</td>\n",
       "      <td>1</td>\n",
       "      <td>0</td>\n",
       "      <td>0</td>\n",
       "      <td>4</td>\n",
       "      <td>...</td>\n",
       "      <td>2</td>\n",
       "      <td>7</td>\n",
       "      <td>7</td>\n",
       "      <td>0</td>\n",
       "      <td>2</td>\n",
       "      <td>1</td>\n",
       "      <td>4</td>\n",
       "      <td>3</td>\n",
       "      <td>2</td>\n",
       "      <td>1</td>\n",
       "    </tr>\n",
       "    <tr>\n",
       "      <th>2</th>\n",
       "      <td>0</td>\n",
       "      <td>0</td>\n",
       "      <td>2</td>\n",
       "      <td>8</td>\n",
       "      <td>1</td>\n",
       "      <td>3</td>\n",
       "      <td>1</td>\n",
       "      <td>0</td>\n",
       "      <td>0</td>\n",
       "      <td>5</td>\n",
       "      <td>...</td>\n",
       "      <td>2</td>\n",
       "      <td>7</td>\n",
       "      <td>7</td>\n",
       "      <td>0</td>\n",
       "      <td>2</td>\n",
       "      <td>1</td>\n",
       "      <td>4</td>\n",
       "      <td>3</td>\n",
       "      <td>2</td>\n",
       "      <td>3</td>\n",
       "    </tr>\n",
       "    <tr>\n",
       "      <th>3</th>\n",
       "      <td>1</td>\n",
       "      <td>5</td>\n",
       "      <td>3</td>\n",
       "      <td>8</td>\n",
       "      <td>1</td>\n",
       "      <td>6</td>\n",
       "      <td>1</td>\n",
       "      <td>0</td>\n",
       "      <td>1</td>\n",
       "      <td>5</td>\n",
       "      <td>...</td>\n",
       "      <td>2</td>\n",
       "      <td>7</td>\n",
       "      <td>7</td>\n",
       "      <td>0</td>\n",
       "      <td>2</td>\n",
       "      <td>1</td>\n",
       "      <td>4</td>\n",
       "      <td>2</td>\n",
       "      <td>3</td>\n",
       "      <td>5</td>\n",
       "    </tr>\n",
       "    <tr>\n",
       "      <th>4</th>\n",
       "      <td>0</td>\n",
       "      <td>5</td>\n",
       "      <td>2</td>\n",
       "      <td>3</td>\n",
       "      <td>0</td>\n",
       "      <td>5</td>\n",
       "      <td>1</td>\n",
       "      <td>1</td>\n",
       "      <td>0</td>\n",
       "      <td>4</td>\n",
       "      <td>...</td>\n",
       "      <td>2</td>\n",
       "      <td>7</td>\n",
       "      <td>7</td>\n",
       "      <td>0</td>\n",
       "      <td>2</td>\n",
       "      <td>1</td>\n",
       "      <td>0</td>\n",
       "      <td>3</td>\n",
       "      <td>0</td>\n",
       "      <td>1</td>\n",
       "    </tr>\n",
       "  </tbody>\n",
       "</table>\n",
       "<p>5 rows × 23 columns</p>\n",
       "</div>"
      ],
      "text/plain": [
       "   class  cap-shape  cap-surface  cap-color  bruises  odor  gill-attachment  \\\n",
       "0      1          5            2          4        1     6                1   \n",
       "1      0          5            2          9        1     0                1   \n",
       "2      0          0            2          8        1     3                1   \n",
       "3      1          5            3          8        1     6                1   \n",
       "4      0          5            2          3        0     5                1   \n",
       "\n",
       "   gill-spacing  gill-size  gill-color  ...  stalk-surface-below-ring  \\\n",
       "0             0          1           4  ...                         2   \n",
       "1             0          0           4  ...                         2   \n",
       "2             0          0           5  ...                         2   \n",
       "3             0          1           5  ...                         2   \n",
       "4             1          0           4  ...                         2   \n",
       "\n",
       "   stalk-color-above-ring  stalk-color-below-ring  veil-type  veil-color  \\\n",
       "0                       7                       7          0           2   \n",
       "1                       7                       7          0           2   \n",
       "2                       7                       7          0           2   \n",
       "3                       7                       7          0           2   \n",
       "4                       7                       7          0           2   \n",
       "\n",
       "   ring-number  ring-type  spore-print-color  population  habitat  \n",
       "0            1          4                  2           3        5  \n",
       "1            1          4                  3           2        1  \n",
       "2            1          4                  3           2        3  \n",
       "3            1          4                  2           3        5  \n",
       "4            1          0                  3           0        1  \n",
       "\n",
       "[5 rows x 23 columns]"
      ]
     },
     "execution_count": 4,
     "metadata": {},
     "output_type": "execute_result"
    }
   ],
   "source": [
    "#Do preprocessing ==> 1. make numerical attributes\n",
    "from sklearn.preprocessing import LabelEncoder\n",
    "le=LabelEncoder()\n",
    "for col in mushrooms.columns:\n",
    "    mushrooms[col] = le.fit_transform(mushrooms[col])\n",
    "mushrooms.head()"
   ]
  },
  {
   "cell_type": "code",
   "execution_count": 5,
   "metadata": {},
   "outputs": [],
   "source": [
    "#get data label\n",
    "X=mushrooms.drop(['class'],axis=1).values\n",
    "y=mushrooms['class'].values"
   ]
  },
  {
   "cell_type": "code",
   "execution_count": 6,
   "metadata": {},
   "outputs": [
    {
     "name": "stderr",
     "output_type": "stream",
     "text": [
      "C:\\ProgramData\\Anaconda3\\lib\\site-packages\\sklearn\\utils\\validation.py:595: DataConversionWarning: Data with input dtype int32 was converted to float64 by StandardScaler.\n",
      "  warnings.warn(msg, DataConversionWarning)\n",
      "C:\\ProgramData\\Anaconda3\\lib\\site-packages\\sklearn\\utils\\validation.py:595: DataConversionWarning: Data with input dtype int32 was converted to float64 by StandardScaler.\n",
      "  warnings.warn(msg, DataConversionWarning)\n"
     ]
    }
   ],
   "source": [
    "#Do scaling\n",
    "from sklearn.preprocessing import StandardScaler\n",
    "scaler = StandardScaler()\n",
    "X=scaler.fit_transform(X)"
   ]
  },
  {
   "cell_type": "markdown",
   "metadata": {},
   "source": [
    "# Step 2.2 Make training set and test set"
   ]
  },
  {
   "cell_type": "code",
   "execution_count": 7,
   "metadata": {},
   "outputs": [],
   "source": [
    "#training set & test set 나누기\n",
    "from sklearn.model_selection import train_test_split\n",
    "import numpy as np\n",
    "X_train , X_test , y_train , y_test = train_test_split(X,y,test_size=0.2,random_state=42)"
   ]
  },
  {
   "cell_type": "markdown",
   "metadata": {},
   "source": [
    "# Step 3. Choose several weak models and soft and hard voting classifier using the weak models."
   ]
  },
  {
   "cell_type": "code",
   "execution_count": 8,
   "metadata": {},
   "outputs": [],
   "source": [
    "#weak model\n",
    "import numpy as np\n",
    "from sklearn.linear_model import SGDClassifier\n",
    "sgd_clf = SGDClassifier(max_iter=5, tol=-np.infty,random_state=42,loss='log')\n",
    "from sklearn.neighbors import KNeighborsClassifier\n",
    "knn_clf = KNeighborsClassifier(n_neighbors=2)\n",
    "from sklearn.tree import DecisionTreeClassifier\n",
    "tree_clf = DecisionTreeClassifier(max_depth=2,random_state=42)\n",
    "from sklearn.svm import SVC\n",
    "svm_clf = SVC(gamma='auto',C=2,random_state=42,probability=True)"
   ]
  },
  {
   "cell_type": "code",
   "execution_count": 9,
   "metadata": {},
   "outputs": [],
   "source": [
    "#soft voting\n",
    "from sklearn.ensemble import VotingClassifier\n",
    "soft_clf = VotingClassifier(estimators=[('sgd',sgd_clf),('knn',knn_clf),('tree',tree_clf),('svc',svm_clf)],\n",
    "                           voting='soft')\n",
    "#hard voting\n",
    "hard_clf = VotingClassifier(estimators=[('sgd',sgd_clf),('knn',knn_clf),('tree',tree_clf),('svc',svm_clf)],\n",
    "                           voting='hard')"
   ]
  },
  {
   "cell_type": "markdown",
   "metadata": {},
   "source": [
    "# Step 4. Find the highest accuracy about in step3 model"
   ]
  },
  {
   "cell_type": "markdown",
   "metadata": {},
   "source": [
    "## Step 4.1 Get accuracy using grid search"
   ]
  },
  {
   "cell_type": "code",
   "execution_count": 10,
   "metadata": {},
   "outputs": [
    {
     "data": {
      "text/plain": [
       "GridSearchCV(cv=10, error_score='raise-deprecating',\n",
       "       estimator=VotingClassifier(estimators=[('sgd', SGDClassifier(alpha=0.0001, average=False, class_weight=None,\n",
       "       early_stopping=False, epsilon=0.1, eta0=0.0, fit_intercept=True,\n",
       "       l1_ratio=0.15, learning_rate='optimal', loss='log', max_iter=5,\n",
       "       n_iter=None, n_iter_no_change=5, n_jobs=N...=0.001, verbose=False))],\n",
       "         flatten_transform=None, n_jobs=None, voting='soft', weights=None),\n",
       "       fit_params=None, iid='warn', n_jobs=None,\n",
       "       param_grid=[{'sgd__max_iter': [5, 10], 'knn__n_neighbors': [2, 3], 'tree__max_depth': [2, 3, 4], 'svc__C': [2, 3, 4]}],\n",
       "       pre_dispatch='2*n_jobs', refit=True, return_train_score=True,\n",
       "       scoring='accuracy', verbose=0)"
      ]
     },
     "execution_count": 10,
     "metadata": {},
     "output_type": "execute_result"
    }
   ],
   "source": [
    "#grid search (soft voting)\n",
    "from sklearn.model_selection import GridSearchCV\n",
    "param_grid = [\n",
    "    {'sgd__max_iter':[5,10],\n",
    "     'knn__n_neighbors':[2,3],\n",
    "     'tree__max_depth':[2,3,4],\n",
    "     'svc__C':[2,3,4]}\n",
    "  ]\n",
    "grid = GridSearchCV(soft_clf,param_grid,cv=10,scoring='accuracy', return_train_score=True)\n",
    "grid.fit(X_train,y_train)"
   ]
  },
  {
   "cell_type": "code",
   "execution_count": 11,
   "metadata": {},
   "outputs": [
    {
     "name": "stdout",
     "output_type": "stream",
     "text": [
      "0.9996922603477458 {'knn__n_neighbors': 2, 'sgd__max_iter': 5, 'svc__C': 2, 'tree__max_depth': 2}\n",
      "0.9996922603477458 {'knn__n_neighbors': 2, 'sgd__max_iter': 5, 'svc__C': 2, 'tree__max_depth': 3}\n",
      "0.9996922603477458 {'knn__n_neighbors': 2, 'sgd__max_iter': 5, 'svc__C': 2, 'tree__max_depth': 4}\n",
      "0.9996922603477458 {'knn__n_neighbors': 2, 'sgd__max_iter': 5, 'svc__C': 3, 'tree__max_depth': 2}\n",
      "0.9996922603477458 {'knn__n_neighbors': 2, 'sgd__max_iter': 5, 'svc__C': 3, 'tree__max_depth': 3}\n",
      "0.9996922603477458 {'knn__n_neighbors': 2, 'sgd__max_iter': 5, 'svc__C': 3, 'tree__max_depth': 4}\n",
      "0.9996922603477458 {'knn__n_neighbors': 2, 'sgd__max_iter': 5, 'svc__C': 4, 'tree__max_depth': 2}\n",
      "0.9996922603477458 {'knn__n_neighbors': 2, 'sgd__max_iter': 5, 'svc__C': 4, 'tree__max_depth': 3}\n",
      "0.9996922603477458 {'knn__n_neighbors': 2, 'sgd__max_iter': 5, 'svc__C': 4, 'tree__max_depth': 4}\n",
      "0.9996922603477458 {'knn__n_neighbors': 2, 'sgd__max_iter': 10, 'svc__C': 2, 'tree__max_depth': 2}\n",
      "0.9996922603477458 {'knn__n_neighbors': 2, 'sgd__max_iter': 10, 'svc__C': 2, 'tree__max_depth': 3}\n",
      "0.9996922603477458 {'knn__n_neighbors': 2, 'sgd__max_iter': 10, 'svc__C': 2, 'tree__max_depth': 4}\n",
      "0.9996922603477458 {'knn__n_neighbors': 2, 'sgd__max_iter': 10, 'svc__C': 3, 'tree__max_depth': 2}\n",
      "0.9996922603477458 {'knn__n_neighbors': 2, 'sgd__max_iter': 10, 'svc__C': 3, 'tree__max_depth': 3}\n",
      "0.9996922603477458 {'knn__n_neighbors': 2, 'sgd__max_iter': 10, 'svc__C': 3, 'tree__max_depth': 4}\n",
      "0.9996922603477458 {'knn__n_neighbors': 2, 'sgd__max_iter': 10, 'svc__C': 4, 'tree__max_depth': 2}\n",
      "0.9996922603477458 {'knn__n_neighbors': 2, 'sgd__max_iter': 10, 'svc__C': 4, 'tree__max_depth': 3}\n",
      "0.9996922603477458 {'knn__n_neighbors': 2, 'sgd__max_iter': 10, 'svc__C': 4, 'tree__max_depth': 4}\n",
      "0.9993845206954917 {'knn__n_neighbors': 3, 'sgd__max_iter': 5, 'svc__C': 2, 'tree__max_depth': 2}\n",
      "0.9993845206954917 {'knn__n_neighbors': 3, 'sgd__max_iter': 5, 'svc__C': 2, 'tree__max_depth': 3}\n",
      "0.9993845206954917 {'knn__n_neighbors': 3, 'sgd__max_iter': 5, 'svc__C': 2, 'tree__max_depth': 4}\n",
      "0.9993845206954917 {'knn__n_neighbors': 3, 'sgd__max_iter': 5, 'svc__C': 3, 'tree__max_depth': 2}\n",
      "0.9993845206954917 {'knn__n_neighbors': 3, 'sgd__max_iter': 5, 'svc__C': 3, 'tree__max_depth': 3}\n",
      "0.9993845206954917 {'knn__n_neighbors': 3, 'sgd__max_iter': 5, 'svc__C': 3, 'tree__max_depth': 4}\n",
      "0.9993845206954917 {'knn__n_neighbors': 3, 'sgd__max_iter': 5, 'svc__C': 4, 'tree__max_depth': 2}\n",
      "0.9993845206954917 {'knn__n_neighbors': 3, 'sgd__max_iter': 5, 'svc__C': 4, 'tree__max_depth': 3}\n",
      "0.9993845206954917 {'knn__n_neighbors': 3, 'sgd__max_iter': 5, 'svc__C': 4, 'tree__max_depth': 4}\n",
      "0.9996922603477458 {'knn__n_neighbors': 3, 'sgd__max_iter': 10, 'svc__C': 2, 'tree__max_depth': 2}\n",
      "0.9996922603477458 {'knn__n_neighbors': 3, 'sgd__max_iter': 10, 'svc__C': 2, 'tree__max_depth': 3}\n",
      "0.9996922603477458 {'knn__n_neighbors': 3, 'sgd__max_iter': 10, 'svc__C': 2, 'tree__max_depth': 4}\n",
      "0.9996922603477458 {'knn__n_neighbors': 3, 'sgd__max_iter': 10, 'svc__C': 3, 'tree__max_depth': 2}\n",
      "0.9996922603477458 {'knn__n_neighbors': 3, 'sgd__max_iter': 10, 'svc__C': 3, 'tree__max_depth': 3}\n",
      "0.9996922603477458 {'knn__n_neighbors': 3, 'sgd__max_iter': 10, 'svc__C': 3, 'tree__max_depth': 4}\n",
      "0.9996922603477458 {'knn__n_neighbors': 3, 'sgd__max_iter': 10, 'svc__C': 4, 'tree__max_depth': 2}\n",
      "0.9996922603477458 {'knn__n_neighbors': 3, 'sgd__max_iter': 10, 'svc__C': 4, 'tree__max_depth': 3}\n",
      "0.9996922603477458 {'knn__n_neighbors': 3, 'sgd__max_iter': 10, 'svc__C': 4, 'tree__max_depth': 4}\n",
      "##########################################################\n",
      "Best hyperparameter: {'knn__n_neighbors': 2, 'sgd__max_iter': 5, 'svc__C': 2, 'tree__max_depth': 2}\n"
     ]
    }
   ],
   "source": [
    "cvres = grid.cv_results_\n",
    "for mean_score, params in zip(cvres[\"mean_test_score\"], cvres[\"params\"]):\n",
    "    print(mean_score, params)\n",
    "print('##########################################################')\n",
    "print('Best hyperparameter: {}'.format(grid.best_params_))"
   ]
  },
  {
   "cell_type": "code",
   "execution_count": 13,
   "metadata": {},
   "outputs": [
    {
     "data": {
      "text/plain": [
       "GridSearchCV(cv=10, error_score='raise-deprecating',\n",
       "       estimator=VotingClassifier(estimators=[('sgd', SGDClassifier(alpha=0.0001, average=False, class_weight=None,\n",
       "       early_stopping=False, epsilon=0.1, eta0=0.0, fit_intercept=True,\n",
       "       l1_ratio=0.15, learning_rate='optimal', loss='log', max_iter=5,\n",
       "       n_iter=None, n_iter_no_change=5, n_jobs=N...=0.001, verbose=False))],\n",
       "         flatten_transform=None, n_jobs=None, voting='hard', weights=None),\n",
       "       fit_params=None, iid='warn', n_jobs=None,\n",
       "       param_grid=[{'sgd__max_iter': [5, 10], 'knn__n_neighbors': [2, 3], 'tree__max_depth': [2, 3, 4], 'svc__C': [2, 3, 4]}],\n",
       "       pre_dispatch='2*n_jobs', refit=True, return_train_score=True,\n",
       "       scoring='accuracy', verbose=0)"
      ]
     },
     "execution_count": 13,
     "metadata": {},
     "output_type": "execute_result"
    }
   ],
   "source": [
    "#grid search (hard voting)\n",
    "param_grid_2 = [\n",
    "    {'sgd__max_iter':[5,10],\n",
    "     'knn__n_neighbors':[2,3],\n",
    "     'tree__max_depth':[2,3,4],\n",
    "     'svc__C':[2,3,4]}\n",
    "  ]\n",
    "grid_2 = GridSearchCV(hard_clf,param_grid_2,cv=10,scoring='accuracy', return_train_score=True)\n",
    "grid_2.fit(X_train,y_train)"
   ]
  },
  {
   "cell_type": "code",
   "execution_count": 14,
   "metadata": {},
   "outputs": [
    {
     "name": "stdout",
     "output_type": "stream",
     "text": [
      "0.9883058932143407 {'knn__n_neighbors': 2, 'sgd__max_iter': 5, 'svc__C': 2, 'tree__max_depth': 2}\n",
      "0.9946145560855516 {'knn__n_neighbors': 2, 'sgd__max_iter': 5, 'svc__C': 2, 'tree__max_depth': 3}\n",
      "0.9949222957378058 {'knn__n_neighbors': 2, 'sgd__max_iter': 5, 'svc__C': 2, 'tree__max_depth': 4}\n",
      "0.9883058932143407 {'knn__n_neighbors': 2, 'sgd__max_iter': 5, 'svc__C': 3, 'tree__max_depth': 2}\n",
      "0.9946145560855516 {'knn__n_neighbors': 2, 'sgd__max_iter': 5, 'svc__C': 3, 'tree__max_depth': 3}\n",
      "0.9949222957378058 {'knn__n_neighbors': 2, 'sgd__max_iter': 5, 'svc__C': 3, 'tree__max_depth': 4}\n",
      "0.9883058932143407 {'knn__n_neighbors': 2, 'sgd__max_iter': 5, 'svc__C': 4, 'tree__max_depth': 2}\n",
      "0.9946145560855516 {'knn__n_neighbors': 2, 'sgd__max_iter': 5, 'svc__C': 4, 'tree__max_depth': 3}\n",
      "0.9949222957378058 {'knn__n_neighbors': 2, 'sgd__max_iter': 5, 'svc__C': 4, 'tree__max_depth': 4}\n",
      "0.9867671949530697 {'knn__n_neighbors': 2, 'sgd__max_iter': 10, 'svc__C': 2, 'tree__max_depth': 2}\n",
      "0.9941529466071704 {'knn__n_neighbors': 2, 'sgd__max_iter': 10, 'svc__C': 2, 'tree__max_depth': 3}\n",
      "0.9958455146945684 {'knn__n_neighbors': 2, 'sgd__max_iter': 10, 'svc__C': 2, 'tree__max_depth': 4}\n",
      "0.9867671949530697 {'knn__n_neighbors': 2, 'sgd__max_iter': 10, 'svc__C': 3, 'tree__max_depth': 2}\n",
      "0.9941529466071704 {'knn__n_neighbors': 2, 'sgd__max_iter': 10, 'svc__C': 3, 'tree__max_depth': 3}\n",
      "0.9958455146945684 {'knn__n_neighbors': 2, 'sgd__max_iter': 10, 'svc__C': 3, 'tree__max_depth': 4}\n",
      "0.9867671949530697 {'knn__n_neighbors': 2, 'sgd__max_iter': 10, 'svc__C': 4, 'tree__max_depth': 2}\n",
      "0.9941529466071704 {'knn__n_neighbors': 2, 'sgd__max_iter': 10, 'svc__C': 4, 'tree__max_depth': 3}\n",
      "0.9958455146945684 {'knn__n_neighbors': 2, 'sgd__max_iter': 10, 'svc__C': 4, 'tree__max_depth': 4}\n",
      "0.9883058932143407 {'knn__n_neighbors': 3, 'sgd__max_iter': 5, 'svc__C': 2, 'tree__max_depth': 2}\n",
      "0.9946145560855516 {'knn__n_neighbors': 3, 'sgd__max_iter': 5, 'svc__C': 2, 'tree__max_depth': 3}\n",
      "0.9949222957378058 {'knn__n_neighbors': 3, 'sgd__max_iter': 5, 'svc__C': 2, 'tree__max_depth': 4}\n",
      "0.9883058932143407 {'knn__n_neighbors': 3, 'sgd__max_iter': 5, 'svc__C': 3, 'tree__max_depth': 2}\n",
      "0.9946145560855516 {'knn__n_neighbors': 3, 'sgd__max_iter': 5, 'svc__C': 3, 'tree__max_depth': 3}\n",
      "0.9949222957378058 {'knn__n_neighbors': 3, 'sgd__max_iter': 5, 'svc__C': 3, 'tree__max_depth': 4}\n",
      "0.9883058932143407 {'knn__n_neighbors': 3, 'sgd__max_iter': 5, 'svc__C': 4, 'tree__max_depth': 2}\n",
      "0.9946145560855516 {'knn__n_neighbors': 3, 'sgd__max_iter': 5, 'svc__C': 4, 'tree__max_depth': 3}\n",
      "0.9949222957378058 {'knn__n_neighbors': 3, 'sgd__max_iter': 5, 'svc__C': 4, 'tree__max_depth': 4}\n",
      "0.9867671949530697 {'knn__n_neighbors': 3, 'sgd__max_iter': 10, 'svc__C': 2, 'tree__max_depth': 2}\n",
      "0.9941529466071704 {'knn__n_neighbors': 3, 'sgd__max_iter': 10, 'svc__C': 2, 'tree__max_depth': 3}\n",
      "0.9958455146945684 {'knn__n_neighbors': 3, 'sgd__max_iter': 10, 'svc__C': 2, 'tree__max_depth': 4}\n",
      "0.9867671949530697 {'knn__n_neighbors': 3, 'sgd__max_iter': 10, 'svc__C': 3, 'tree__max_depth': 2}\n",
      "0.9941529466071704 {'knn__n_neighbors': 3, 'sgd__max_iter': 10, 'svc__C': 3, 'tree__max_depth': 3}\n",
      "0.9958455146945684 {'knn__n_neighbors': 3, 'sgd__max_iter': 10, 'svc__C': 3, 'tree__max_depth': 4}\n",
      "0.9867671949530697 {'knn__n_neighbors': 3, 'sgd__max_iter': 10, 'svc__C': 4, 'tree__max_depth': 2}\n",
      "0.9941529466071704 {'knn__n_neighbors': 3, 'sgd__max_iter': 10, 'svc__C': 4, 'tree__max_depth': 3}\n",
      "0.9958455146945684 {'knn__n_neighbors': 3, 'sgd__max_iter': 10, 'svc__C': 4, 'tree__max_depth': 4}\n",
      "##########################################################\n",
      "Best hyperparameter: {'knn__n_neighbors': 2, 'sgd__max_iter': 10, 'svc__C': 2, 'tree__max_depth': 4}\n"
     ]
    }
   ],
   "source": [
    "cvres_2 = grid_2.cv_results_\n",
    "for mean_score, params in zip(cvres_2[\"mean_test_score\"], cvres_2[\"params\"]):\n",
    "    print(mean_score, params)\n",
    "print('##########################################################')\n",
    "print('Best hyperparameter: {}'.format(grid_2.best_params_))"
   ]
  },
  {
   "cell_type": "markdown",
   "metadata": {},
   "source": [
    "## Step 4.2 Use Randomize Search"
   ]
  },
  {
   "cell_type": "code",
   "execution_count": 15,
   "metadata": {},
   "outputs": [
    {
     "data": {
      "text/plain": [
       "RandomizedSearchCV(cv=5, error_score='raise-deprecating',\n",
       "          estimator=VotingClassifier(estimators=[('sgd', SGDClassifier(alpha=0.0001, average=False, class_weight=None,\n",
       "       early_stopping=False, epsilon=0.1, eta0=0.0, fit_intercept=True,\n",
       "       l1_ratio=0.15, learning_rate='optimal', loss='log', max_iter=5,\n",
       "       n_iter=None, n_iter_no_change=5, n_jobs=N...=0.001, verbose=False))],\n",
       "         flatten_transform=None, n_jobs=None, voting='soft', weights=None),\n",
       "          fit_params=None, iid='warn', n_iter=10, n_jobs=None,\n",
       "          param_distributions={'sgd__max_iter': <scipy.stats._distn_infrastructure.rv_frozen object at 0x0000028C4DAF9518>, 'knn__n_neighbors': <scipy.stats._distn_infrastructure.rv_frozen object at 0x0000028C4DAF9C18>, 'tree__max_depth': <scipy.stats._distn_infrastructure.rv_frozen object at 0x0000028C4DAF9A20>, 'svc__C': <scipy.stats._distn_infrastructure.rv_frozen object at 0x0000028C4DAEE978>},\n",
       "          pre_dispatch='2*n_jobs', random_state=42, refit=True,\n",
       "          return_train_score='warn', scoring='accuracy', verbose=0)"
      ]
     },
     "execution_count": 15,
     "metadata": {},
     "output_type": "execute_result"
    }
   ],
   "source": [
    "from sklearn.model_selection import RandomizedSearchCV\n",
    "from scipy.stats import randint\n",
    "param_distribs = {\n",
    "        'sgd__max_iter': randint(low=1, high=100),\n",
    "        'knn__n_neighbors': randint(low=1, high=10),\n",
    "        'tree__max_depth': randint(low=1,high=15),\n",
    "        'svc__C':randint(low=1, high=15)\n",
    "    }\n",
    "rnd_search = RandomizedSearchCV(soft_clf, param_distributions=param_distribs,\n",
    "                                n_iter=10, cv=5, scoring='accuracy', random_state=42)\n",
    "rnd_search.fit(X_train, y_train)"
   ]
  },
  {
   "cell_type": "code",
   "execution_count": 16,
   "metadata": {},
   "outputs": [
    {
     "name": "stdout",
     "output_type": "stream",
     "text": [
      "1.0 {'knn__n_neighbors': 7, 'sgd__max_iter': 52, 'svc__C': 13, 'tree__max_depth': 11}\n",
      "1.0 {'knn__n_neighbors': 8, 'sgd__max_iter': 61, 'svc__C': 5, 'tree__max_depth': 7}\n",
      "1.0 {'knn__n_neighbors': 3, 'sgd__max_iter': 87, 'svc__C': 11, 'tree__max_depth': 11}\n",
      "0.9998461301738729 {'knn__n_neighbors': 8, 'sgd__max_iter': 24, 'svc__C': 3, 'tree__max_depth': 6}\n",
      "1.0 {'knn__n_neighbors': 5, 'sgd__max_iter': 2, 'svc__C': 8, 'tree__max_depth': 12}\n",
      "0.9996922603477458 {'knn__n_neighbors': 6, 'sgd__max_iter': 2, 'svc__C': 12, 'tree__max_depth': 5}\n",
      "1.0 {'knn__n_neighbors': 1, 'sgd__max_iter': 76, 'svc__C': 10, 'tree__max_depth': 6}\n",
      "1.0 {'knn__n_neighbors': 9, 'sgd__max_iter': 49, 'svc__C': 11, 'tree__max_depth': 11}\n",
      "1.0 {'knn__n_neighbors': 3, 'sgd__max_iter': 55, 'svc__C': 4, 'tree__max_depth': 9}\n",
      "1.0 {'knn__n_neighbors': 3, 'sgd__max_iter': 51, 'svc__C': 7, 'tree__max_depth': 5}\n"
     ]
    }
   ],
   "source": [
    "cvres = rnd_search.cv_results_\n",
    "for mean_score, params in zip(cvres[\"mean_test_score\"], cvres[\"params\"]):\n",
    "    print(mean_score, params)"
   ]
  },
  {
   "cell_type": "code",
   "execution_count": 17,
   "metadata": {},
   "outputs": [
    {
     "data": {
      "text/plain": [
       "RandomizedSearchCV(cv=5, error_score='raise-deprecating',\n",
       "          estimator=VotingClassifier(estimators=[('sgd', SGDClassifier(alpha=0.0001, average=False, class_weight=None,\n",
       "       early_stopping=False, epsilon=0.1, eta0=0.0, fit_intercept=True,\n",
       "       l1_ratio=0.15, learning_rate='optimal', loss='log', max_iter=5,\n",
       "       n_iter=None, n_iter_no_change=5, n_jobs=N...=0.001, verbose=False))],\n",
       "         flatten_transform=None, n_jobs=None, voting='hard', weights=None),\n",
       "          fit_params=None, iid='warn', n_iter=10, n_jobs=None,\n",
       "          param_distributions={'sgd__max_iter': <scipy.stats._distn_infrastructure.rv_frozen object at 0x0000028C4DAF9518>, 'knn__n_neighbors': <scipy.stats._distn_infrastructure.rv_frozen object at 0x0000028C4DAF9C18>, 'tree__max_depth': <scipy.stats._distn_infrastructure.rv_frozen object at 0x0000028C4DAF9A20>, 'svc__C': <scipy.stats._distn_infrastructure.rv_frozen object at 0x0000028C4DAEE978>},\n",
       "          pre_dispatch='2*n_jobs', random_state=42, refit=True,\n",
       "          return_train_score='warn', scoring='accuracy', verbose=0)"
      ]
     },
     "execution_count": 17,
     "metadata": {},
     "output_type": "execute_result"
    }
   ],
   "source": [
    "param_distribs_2 = {\n",
    "        'sgd__max_iter': randint(low=1, high=100),\n",
    "        'knn__n_neighbors': randint(low=1, high=10),\n",
    "        'tree__max_depth': randint(low=1,high=15),\n",
    "        'svc__C':randint(low=1, high=15)\n",
    "    }\n",
    "rnd_search_2 = RandomizedSearchCV(hard_clf, param_distributions=param_distribs,\n",
    "                                n_iter=10, cv=5, scoring='accuracy', random_state=42)\n",
    "rnd_search_2.fit(X_train, y_train)"
   ]
  },
  {
   "cell_type": "code",
   "execution_count": 18,
   "metadata": {},
   "outputs": [
    {
     "name": "stdout",
     "output_type": "stream",
     "text": [
      "0.9998461301738729 {'knn__n_neighbors': 7, 'sgd__max_iter': 52, 'svc__C': 13, 'tree__max_depth': 11}\n",
      "0.9990767810432374 {'knn__n_neighbors': 8, 'sgd__max_iter': 61, 'svc__C': 5, 'tree__max_depth': 7}\n",
      "1.0 {'knn__n_neighbors': 3, 'sgd__max_iter': 87, 'svc__C': 11, 'tree__max_depth': 11}\n",
      "0.9976919526080935 {'knn__n_neighbors': 8, 'sgd__max_iter': 24, 'svc__C': 3, 'tree__max_depth': 6}\n",
      "1.0 {'knn__n_neighbors': 5, 'sgd__max_iter': 2, 'svc__C': 8, 'tree__max_depth': 12}\n",
      "0.996768733651331 {'knn__n_neighbors': 6, 'sgd__max_iter': 2, 'svc__C': 12, 'tree__max_depth': 5}\n",
      "0.9987690413909832 {'knn__n_neighbors': 1, 'sgd__max_iter': 76, 'svc__C': 10, 'tree__max_depth': 6}\n",
      "0.9992306508693645 {'knn__n_neighbors': 9, 'sgd__max_iter': 49, 'svc__C': 11, 'tree__max_depth': 11}\n",
      "1.0 {'knn__n_neighbors': 3, 'sgd__max_iter': 55, 'svc__C': 4, 'tree__max_depth': 9}\n",
      "0.9946145560855516 {'knn__n_neighbors': 3, 'sgd__max_iter': 51, 'svc__C': 7, 'tree__max_depth': 5}\n"
     ]
    }
   ],
   "source": [
    "cvres_2 = rnd_search_2.cv_results_\n",
    "for mean_score, params in zip(cvres_2[\"mean_test_score\"], cvres_2[\"params\"]):\n",
    "    print(mean_score, params)"
   ]
  },
  {
   "cell_type": "markdown",
   "metadata": {},
   "source": [
    "# Step 5. Find precision and Recall value"
   ]
  },
  {
   "cell_type": "markdown",
   "metadata": {},
   "source": [
    "## Step 5.1 Calculate Precision and Recall about whole classification model"
   ]
  },
  {
   "cell_type": "code",
   "execution_count": 19,
   "metadata": {},
   "outputs": [
    {
     "data": {
      "text/plain": [
       "VotingClassifier(estimators=[('sgd', SGDClassifier(alpha=0.0001, average=False, class_weight=None,\n",
       "       early_stopping=False, epsilon=0.1, eta0=0.0, fit_intercept=True,\n",
       "       l1_ratio=0.15, learning_rate='optimal', loss='log', max_iter=5,\n",
       "       n_iter=None, n_iter_no_change=5, n_jobs=None, penalty='l2',\n",
       "       p...bf',\n",
       "  max_iter=-1, probability=True, random_state=42, shrinking=True,\n",
       "  tol=0.001, verbose=False))],\n",
       "         flatten_transform=None, n_jobs=None, voting='hard', weights=None)"
      ]
     },
     "execution_count": 19,
     "metadata": {},
     "output_type": "execute_result"
    }
   ],
   "source": [
    "#weak model\n",
    "sgd_clf.fit(X_train,y_train)\n",
    "knn_clf.fit(X_train,y_train)\n",
    "tree_clf.fit(X_train,y_train)\n",
    "svm_clf.fit(X_train,y_train)\n",
    "#voting\n",
    "soft_clf.fit(X_train,y_train)\n",
    "hard_clf.fit(X_train,y_train)"
   ]
  },
  {
   "cell_type": "code",
   "execution_count": 20,
   "metadata": {},
   "outputs": [
    {
     "data": {
      "text/plain": [
       "array([-0.8403434 ,  0.14012794, -0.59107461, -0.84322964,  0.40656203,\n",
       "        0.16289645,  2.27861212, -0.66903831, -0.22899776,  0.87351064,\n",
       "        1.78146019, -2.53465204,  0.58638466,  0.62244139,  0.63199138,\n",
       "        0.        ,  0.14203663, -0.25613174, -1.27221574, -0.67019486,\n",
       "       -2.91054623, -0.29572966])"
      ]
     },
     "execution_count": 20,
     "metadata": {},
     "output_type": "execute_result"
    }
   ],
   "source": [
    "#example test\n",
    "X_test[13]"
   ]
  },
  {
   "cell_type": "code",
   "execution_count": 21,
   "metadata": {},
   "outputs": [
    {
     "data": {
      "text/plain": [
       "0"
      ]
     },
     "execution_count": 21,
     "metadata": {},
     "output_type": "execute_result"
    }
   ],
   "source": [
    "y_test[13]"
   ]
  },
  {
   "cell_type": "code",
   "execution_count": 22,
   "metadata": {},
   "outputs": [
    {
     "name": "stdout",
     "output_type": "stream",
     "text": [
      "Soft voting clf prediction : [0]\n",
      "Hard voting clf prediction : [0]\n"
     ]
    }
   ],
   "source": [
    "#soft_voting prediction\n",
    "y_pred = soft_clf.predict([X_test[13]])\n",
    "print('Soft voting clf prediction : {}'.format(y_pred))\n",
    "#hard_voting prediction\n",
    "y_pred2 = hard_clf.predict([X_test[13]])\n",
    "print('Hard voting clf prediction : {}'.format(y_pred2))"
   ]
  },
  {
   "cell_type": "code",
   "execution_count": 23,
   "metadata": {},
   "outputs": [
    {
     "name": "stdout",
     "output_type": "stream",
     "text": [
      "precision score: 0.9101538461538462\n",
      "recall score: 0.9101538461538462\n",
      "precision score: 1.0\n",
      "recall score: 1.0\n",
      "precision score: 0.9076923076923077\n",
      "recall score: 0.9076923076923077\n",
      "precision score: 1.0\n",
      "recall score: 1.0\n"
     ]
    }
   ],
   "source": [
    "from sklearn.metrics import precision_score,recall_score\n",
    "def getPR(classifier,X_test,y_test):\n",
    "    y_score = classifier.predict(X_test)\n",
    "    precision = precision_score(y_test, y_score,average='micro')\n",
    "    recall =  recall_score(y_test, y_score,average='micro')\n",
    "    print('precision score: {}'.format(precision))\n",
    "    print('recall score: {}'.format(recall))\n",
    "#weak model\n",
    "getPR(sgd_clf,X_test,y_test)\n",
    "getPR(knn_clf,X_test,y_test)\n",
    "getPR(tree_clf,X_test,y_test)\n",
    "getPR(svm_clf,X_test,y_test)"
   ]
  },
  {
   "cell_type": "code",
   "execution_count": null,
   "metadata": {},
   "outputs": [],
   "source": []
  }
 ],
 "metadata": {
  "kernelspec": {
   "display_name": "Python 3",
   "language": "python",
   "name": "python3"
  },
  "language_info": {
   "codemirror_mode": {
    "name": "ipython",
    "version": 3
   },
   "file_extension": ".py",
   "mimetype": "text/x-python",
   "name": "python",
   "nbconvert_exporter": "python",
   "pygments_lexer": "ipython3",
   "version": "3.6.8"
  }
 },
 "nbformat": 4,
 "nbformat_minor": 2
}
